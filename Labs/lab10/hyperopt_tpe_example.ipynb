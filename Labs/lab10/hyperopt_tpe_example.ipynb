{
  "cells": [
    {
      "cell_type": "markdown",
      "source": [
        "# Example: Hyper-parameter Optimization\n",
        "In this example, we show the examples of using hyperopt to optimize the MLP nerwork built from Pytorch.\n",
        "\n",
        "**Features included:**\n",
        "\n",
        "1. With implementation of early stopping.\n",
        "2. With implementation of hyper-parameter tuning with hyperopt. "
      ],
      "metadata": {
        "id": "3zizjFLHzE6l"
      },
      "id": "3zizjFLHzE6l"
    },
    {
      "cell_type": "code",
      "execution_count": 2,
      "id": "dRWR0FI3eSJO",
      "metadata": {
        "colab": {
          "base_uri": "https://localhost:8080/"
        },
        "id": "dRWR0FI3eSJO",
        "outputId": "a903cc2a-5439-4845-cffd-211d391dd6d2"
      },
      "outputs": [
        {
          "output_type": "stream",
          "name": "stdout",
          "text": [
            "Looking in indexes: https://pypi.org/simple, https://us-python.pkg.dev/colab-wheels/public/simple/\n",
            "Collecting hpsklearn\n",
            "  Downloading hpsklearn-0.1.0.tar.gz (26 kB)\n",
            "Requirement already satisfied: hyperopt in /usr/local/lib/python3.7/dist-packages (from hpsklearn) (0.1.2)\n",
            "Collecting nose\n",
            "  Downloading nose-1.3.7-py3-none-any.whl (154 kB)\n",
            "\u001b[K     |████████████████████████████████| 154 kB 7.4 MB/s \n",
            "\u001b[?25hRequirement already satisfied: numpy in /usr/local/lib/python3.7/dist-packages (from hpsklearn) (1.21.6)\n",
            "Requirement already satisfied: scikit-learn in /usr/local/lib/python3.7/dist-packages (from hpsklearn) (1.0.2)\n",
            "Requirement already satisfied: scipy in /usr/local/lib/python3.7/dist-packages (from hpsklearn) (1.4.1)\n",
            "Requirement already satisfied: six in /usr/local/lib/python3.7/dist-packages (from hyperopt->hpsklearn) (1.15.0)\n",
            "Requirement already satisfied: pymongo in /usr/local/lib/python3.7/dist-packages (from hyperopt->hpsklearn) (4.1.1)\n",
            "Requirement already satisfied: networkx in /usr/local/lib/python3.7/dist-packages (from hyperopt->hpsklearn) (2.6.3)\n",
            "Requirement already satisfied: tqdm in /usr/local/lib/python3.7/dist-packages (from hyperopt->hpsklearn) (4.64.0)\n",
            "Requirement already satisfied: future in /usr/local/lib/python3.7/dist-packages (from hyperopt->hpsklearn) (0.16.0)\n",
            "Requirement already satisfied: threadpoolctl>=2.0.0 in /usr/local/lib/python3.7/dist-packages (from scikit-learn->hpsklearn) (3.1.0)\n",
            "Requirement already satisfied: joblib>=0.11 in /usr/local/lib/python3.7/dist-packages (from scikit-learn->hpsklearn) (1.1.0)\n",
            "Building wheels for collected packages: hpsklearn\n",
            "  Building wheel for hpsklearn (setup.py) ... \u001b[?25l\u001b[?25hdone\n",
            "  Created wheel for hpsklearn: filename=hpsklearn-0.1.0-py3-none-any.whl size=23913 sha256=336e459897a8c94aa38b07d1e9f7444b8455659c4003d2e956df49f1216fc0e5\n",
            "  Stored in directory: /root/.cache/pip/wheels/b2/22/23/9207fbe861f70774b563f909a415b228450bfcf863c64ac1e8\n",
            "Successfully built hpsklearn\n",
            "Installing collected packages: nose, hpsklearn\n",
            "Successfully installed hpsklearn-0.1.0 nose-1.3.7\n"
          ]
        }
      ],
      "source": [
        "!pip install hpsklearn "
      ]
    },
    {
      "cell_type": "code",
      "execution_count": 3,
      "id": "15474554",
      "metadata": {
        "colab": {
          "base_uri": "https://localhost:8080/"
        },
        "id": "15474554",
        "outputId": "e2a51985-5c76-4107-c004-e362bc3fdf93"
      },
      "outputs": [
        {
          "output_type": "stream",
          "name": "stdout",
          "text": [
            "WARN: OMP_NUM_THREADS=None =>\n",
            "... If you are using openblas if you are using openblas set OMP_NUM_THREADS=1 or risk subprocess calls hanging indefinitely\n"
          ]
        }
      ],
      "source": [
        "import pandas as pd\n",
        "import numpy as np\n",
        "from pandas import read_csv\n",
        "import random\n",
        "\n",
        "import lightgbm as lgb\n",
        "import matplotlib.pyplot as plt\n",
        "import seaborn as sns\n",
        "\n",
        "from sklearn.model_selection import train_test_split\n",
        "from sklearn.preprocessing import LabelEncoder\n",
        "from sklearn.model_selection import KFold, cross_val_score\n",
        "from sklearn.metrics import f1_score, confusion_matrix\n",
        "\n",
        "from hyperopt import hp, tpe, fmin, Trials, space_eval\n",
        "from functools import partial\n",
        "\n",
        "from hpsklearn import HyperoptEstimator\n",
        "from hpsklearn import any_classifier\n",
        "from hpsklearn import any_preprocessing"
      ]
    },
    {
      "cell_type": "code",
      "execution_count": 4,
      "id": "fc2555d5",
      "metadata": {
        "id": "fc2555d5"
      },
      "outputs": [],
      "source": [
        "import torch\n",
        "from torch.utils.data import Dataset, DataLoader\n",
        "from torch.utils.data import random_split\n",
        "from torch import Generator\n",
        "from torch import Tensor\n",
        "from torch.nn import Linear\n",
        "from torch.nn import ReLU\n",
        "from torch.nn import Sigmoid\n",
        "from torch.nn import Module\n",
        "from torch.optim import SGD\n",
        "from torch.nn import BCELoss\n",
        "from torch.nn.init import kaiming_uniform_\n",
        "from torch.nn.init import xavier_uniform_\n",
        "\n",
        "import random"
      ]
    },
    {
      "cell_type": "code",
      "execution_count": 5,
      "id": "be2458f3",
      "metadata": {
        "colab": {
          "base_uri": "https://localhost:8080/"
        },
        "id": "be2458f3",
        "outputId": "e0d9c63c-7128-40f5-fbaa-af37775ad2f8"
      },
      "outputs": [
        {
          "output_type": "stream",
          "name": "stdout",
          "text": [
            "Device: cuda\n"
          ]
        }
      ],
      "source": [
        "# set device to CUDA if available, else to CPU\n",
        "device = torch.device('cuda' if torch.cuda.is_available() else 'cpu')\n",
        "print('Device:', device)"
      ]
    },
    {
      "cell_type": "markdown",
      "id": "dbe527eb",
      "metadata": {
        "id": "dbe527eb"
      },
      "source": [
        "## Hyper-parameter Settings"
      ]
    },
    {
      "cell_type": "code",
      "execution_count": 6,
      "id": "c2daa56e",
      "metadata": {
        "id": "c2daa56e"
      },
      "outputs": [],
      "source": [
        "TEST_SIZE = 0.3\n",
        "NUM_FOLDS = 5\n",
        "RANDOM_STATE = 0"
      ]
    },
    {
      "cell_type": "code",
      "execution_count": 7,
      "id": "a8196a4c",
      "metadata": {
        "id": "a8196a4c"
      },
      "outputs": [],
      "source": [
        "random.seed(RANDOM_STATE)\n",
        "torch.manual_seed(RANDOM_STATE)\n",
        "np.random.seed(RANDOM_STATE)\n",
        "torch.use_deterministic_algorithms(True)\n",
        "torch.backends.cudnn.deterministic = True\n",
        "torch.backends.cudnn.benchmark = False"
      ]
    },
    {
      "cell_type": "markdown",
      "id": "fba72139",
      "metadata": {
        "id": "fba72139"
      },
      "source": [
        "## Pytorch NN Definition"
      ]
    },
    {
      "cell_type": "markdown",
      "source": [
        "### Dataset Definition"
      ],
      "metadata": {
        "id": "NknsC-zExijl"
      },
      "id": "NknsC-zExijl"
    },
    {
      "cell_type": "code",
      "execution_count": 8,
      "id": "dd01eb16",
      "metadata": {
        "id": "dd01eb16"
      },
      "outputs": [],
      "source": [
        "class CSVDataset(Dataset):\n",
        "    # load the dataset\n",
        "    def __init__(self, path):\n",
        "        # load the csv file as a dataframe\n",
        "        df = read_csv(path, header=None)\n",
        "        # store the inputs and outputs\n",
        "        self.X = df.values[:, :-1]\n",
        "        self.y = df.values[:, -1]\n",
        "        # ensure input data is floats\n",
        "        self.X = self.X.astype('float32')\n",
        "        # label encode target and ensure the values are floats\n",
        "        self.y = LabelEncoder().fit_transform(self.y)\n",
        "        self.y = self.y.astype('float32')\n",
        "        self.y = self.y.reshape((len(self.y), 1))\n",
        " \n",
        "    # number of rows in the dataset\n",
        "    def __len__(self):\n",
        "        return len(self.X)\n",
        " \n",
        "    # get a row at an index\n",
        "    def __getitem__(self, idx):\n",
        "        return [self.X[idx], self.y[idx]]\n",
        " \n",
        "    # get indexes for train and test rows\n",
        "    def get_splits(self, n_test, random_state):\n",
        "        # determine sizes\n",
        "        test_size = round(n_test * len(self.X))\n",
        "        train_size = len(self.X) - test_size\n",
        "        # calculate the split\n",
        "        return random_split(self, [train_size, test_size], generator=Generator().manual_seed(random_state))"
      ]
    },
    {
      "cell_type": "markdown",
      "source": [
        "### Model Definition"
      ],
      "metadata": {
        "id": "HW5DQLA_xnBw"
      },
      "id": "HW5DQLA_xnBw"
    },
    {
      "cell_type": "code",
      "execution_count": 10,
      "id": "01b30fba",
      "metadata": {
        "id": "01b30fba"
      },
      "outputs": [],
      "source": [
        "class MLP(Module):\n",
        "    # define model elements\n",
        "    def __init__(self, n_inputs, hidden_layer1, hidden_layer2,):\n",
        "        super(MLP, self).__init__()\n",
        "        # input to first hidden layer\n",
        "        self.hidden1 = Linear(n_inputs, hidden_layer1)\n",
        "        kaiming_uniform_(self.hidden1.weight, nonlinearity='relu')\n",
        "        self.act1 = ReLU()\n",
        "        # second hidden layer\n",
        "        self.hidden2 = Linear(hidden_layer1, hidden_layer2)\n",
        "        kaiming_uniform_(self.hidden2.weight, nonlinearity='relu')\n",
        "        self.act2 = ReLU()\n",
        "        # third hidden layer and output\n",
        "        self.hidden3 = Linear(hidden_layer2, 1)\n",
        "        xavier_uniform_(self.hidden3.weight)\n",
        "        self.act3 = Sigmoid() # self.act3 = Softmax(dim=1) for multi-class classification\n",
        " \n",
        "    # forward propagate input\n",
        "    def forward(self, X):\n",
        "        # input to first hidden layer\n",
        "        X = self.hidden1(X)\n",
        "        X = self.act1(X)\n",
        "         # second hidden layer\n",
        "        X = self.hidden2(X)\n",
        "        X = self.act2(X)\n",
        "        # third hidden layer and output\n",
        "        X = self.hidden3(X)\n",
        "        X = self.act3(X)\n",
        "        return X"
      ]
    },
    {
      "cell_type": "code",
      "execution_count": 11,
      "id": "f403b47c",
      "metadata": {
        "id": "f403b47c"
      },
      "outputs": [],
      "source": [
        "def seed_worker(worker_id):\n",
        "    worker_seed = torch.initial_seed() % 2**32\n",
        "    np.random.seed(worker_seed)\n",
        "    random.seed(worker_seed)"
      ]
    },
    {
      "cell_type": "code",
      "execution_count": 12,
      "id": "12bbb7c3",
      "metadata": {
        "id": "12bbb7c3"
      },
      "outputs": [],
      "source": [
        "# prepare the dataset\n",
        "def prepare_data(path):\n",
        "    # load the dataset\n",
        "    dataset = CSVDataset(path)\n",
        "    # calculate split\n",
        "    train, test = dataset.get_splits(n_test=TEST_SIZE, random_state=RANDOM_STATE)\n",
        "    # prepare data loaders\n",
        "    train_dl = DataLoader(train, batch_size=32, worker_init_fn=seed_worker, shuffle=True)\n",
        "    test_dl = DataLoader(test, batch_size=1024, worker_init_fn=seed_worker, shuffle=False)\n",
        "    return train_dl, test_dl"
      ]
    },
    {
      "cell_type": "code",
      "execution_count": 13,
      "id": "f9c13c51",
      "metadata": {
        "id": "f9c13c51"
      },
      "outputs": [],
      "source": [
        "## for cross validation\n",
        "def reset_weights(m):\n",
        "    '''\n",
        "    Try resetting model weights to avoid\n",
        "    weight leakage.\n",
        "    '''\n",
        "    for layer in m.children():\n",
        "        if hasattr(layer, 'reset_parameters'):\n",
        "            # print(f'Reset trainable parameters of layer = {layer}')\n",
        "            layer.reset_parameters()"
      ]
    },
    {
      "cell_type": "markdown",
      "source": [
        "## Training\n",
        "Define the hyper-parameter dict PARA, and feed PARA into the train_model function."
      ],
      "metadata": {
        "id": "PLi7prMdxrye"
      },
      "id": "PLi7prMdxrye"
    },
    {
      "cell_type": "code",
      "execution_count": 14,
      "id": "843f3c9e",
      "metadata": {
        "id": "843f3c9e"
      },
      "outputs": [],
      "source": [
        "# train the model\n",
        "def train_model(train_dl, valid_dl, PARA, epochs=100, patience=10, early_stopping=False, cross_valid=False):\n",
        "    \n",
        "    ######################################\n",
        "    # variables declaration for hyperopt #\n",
        "    ######################################\n",
        "    \n",
        "    LR = PARA['lr']\n",
        "    MOMENTUM = PARA['momentum']\n",
        "    HIDDEN_LYR1 = PARA['hidden_layer1']\n",
        "    HIDDEN_LYR2 = PARA['hidden_layer2']\n",
        "    \n",
        "    ###########################################\n",
        "    # variables declaration for early stopping#\n",
        "    ###########################################\n",
        "    \n",
        "    # to track the training loss as the model trains\n",
        "    train_losses = []\n",
        "    # to track the validation loss as the model trains\n",
        "    valid_losses = []\n",
        "    # to track the average training loss per epoch as the model trains\n",
        "    avg_train_losses = []\n",
        "    # to track the average validation loss per epoch as the model trains\n",
        "    avg_valid_losses = []\n",
        "    \n",
        "    # initialize for early stopping\n",
        "    epochs_no_improve = 0\n",
        "    min_val_loss = np.Inf\n",
        "    early_stop_detected = False\n",
        "    \n",
        "    ###############################\n",
        "    # model related implementation#\n",
        "    ###############################\n",
        "    \n",
        "    # define the model\n",
        "    model = MLP(60, HIDDEN_LYR1, HIDDEN_LYR2)\n",
        "    if cross_valid:\n",
        "        model.apply(reset_weights)\n",
        "        \n",
        "    # define the optimization\n",
        "    criterion = BCELoss() # CrossEntropyLoss() for multi-class classification\n",
        "    optimizer = SGD(model.parameters(), lr=LR, momentum=MOMENTUM)\n",
        "    \n",
        "    # enumerate epochs\n",
        "    for epoch in range(1, epochs+1):\n",
        "        \n",
        "        # prepare model for training\n",
        "        model.train() \n",
        "        # enumerate mini batches\n",
        "        for i, (inputs, targets) in enumerate(train_dl):\n",
        "            # clear the gradients\n",
        "            optimizer.zero_grad()\n",
        "            # compute the model output\n",
        "            y_pred_train = model(inputs)\n",
        "            # calculate loss\n",
        "            loss = criterion(y_pred_train, targets)\n",
        "            # credit assignment\n",
        "            loss.backward()\n",
        "            # update model weights\n",
        "            optimizer.step()\n",
        "            # record training loss\n",
        "            train_losses.append(loss.item())\n",
        "            \n",
        "        # print training/validation statistics \n",
        "        # calculate average loss over an epoch \n",
        "        train_loss = np.average(train_losses)\n",
        "        avg_train_losses.append(train_loss)\n",
        "        \n",
        "        # clear lists to track next epoch\n",
        "        train_losses = []\n",
        "        \n",
        "        epoch_len = len(str(epochs))\n",
        "        \n",
        "        if valid_dl is None:\n",
        "        \n",
        "            print_msg = (f'[{epoch:>{epoch_len}}/{epochs:>{epoch_len}}] ' +\n",
        "                             f'train_loss: {train_loss:.5f} ')\n",
        "            \n",
        "            print(print_msg)\n",
        "        \n",
        "        # process valid set if it is available\n",
        "        else:\n",
        "            # prepare model for evaluation\n",
        "            model.eval() \n",
        "\n",
        "            for inputs, targets in valid_dl:\n",
        "                # forward pass: compute predicted outputs by passing inputs to the model\n",
        "                y_pred_valid = model(inputs)\n",
        "                # calculate the loss\n",
        "                loss = criterion(y_pred_valid, targets)\n",
        "                # record validation loss\n",
        "                valid_losses.append(loss.item())\n",
        "\n",
        "            # print training/validation statistics \n",
        "            # calculate average loss over an epoch            \n",
        "            valid_loss = np.average(valid_losses)\n",
        "            avg_valid_losses.append(valid_loss)\n",
        "\n",
        "            print_msg = (f'[{epoch:>{epoch_len}}/{epochs:>{epoch_len}}] ' +\n",
        "                         f'train_loss: {train_loss:.5f} ' +\n",
        "                         f'valid_loss: {valid_loss:.5f}')\n",
        "\n",
        "            # print(print_msg)\n",
        "\n",
        "            # clear lists to track next epoch\n",
        "            valid_losses = []\n",
        "\n",
        "            if early_stopping:\n",
        "\n",
        "                # early_stopping needs the validation loss to check if it has decresed\n",
        "                if valid_loss < min_val_loss:\n",
        "                    epochs_no_improve = 0\n",
        "                    min_val_loss = valid_loss\n",
        "                else:\n",
        "                    epochs_no_improve += 1\n",
        "\n",
        "                if epoch > 5 and epochs_no_improve==patience:\n",
        "                    early_stop_detected = True\n",
        "                    break\n",
        "                \n",
        "    #     if early_stopping:\n",
        "    #         if early_stop_detected:\n",
        "    #             print(f'  Early stopping at epoch: {epoch}!' )\n",
        "    #             print(f'  Stopped with valid loss={valid_loss:.5f}')\n",
        "    #         else:\n",
        "    #             print(f'  No early stopping. Finish training until epoch: {epoch}!' )\n",
        "    #             print(f'  Stopped with valid loss={valid_loss:.5f}')    \n",
        "\n",
        "    return model, avg_train_losses, avg_valid_losses"
      ]
    },
    {
      "cell_type": "markdown",
      "source": [
        "## Evaluation"
      ],
      "metadata": {
        "id": "IyFgZ527xvVm"
      },
      "id": "IyFgZ527xvVm"
    },
    {
      "cell_type": "code",
      "execution_count": 15,
      "id": "3118542f",
      "metadata": {
        "id": "3118542f"
      },
      "outputs": [],
      "source": [
        "# evaluate the model\n",
        "def evaluate_model(model, test_dl):\n",
        "    predictions, actuals = list(), list()\n",
        "    # prep model for evaluation\n",
        "    model.eval() \n",
        "    for i, (inputs, targets) in enumerate(test_dl):\n",
        "        # evaluate the model on the test set\n",
        "        y_proba = model(inputs)\n",
        "        # retrieve numpy array\n",
        "        y_proba = y_proba.detach().numpy()\n",
        "        # round to class values\n",
        "        y_pred = y_proba.round()\n",
        "        # extract true label\n",
        "        y_true = targets.numpy()\n",
        "        y_true = y_true.reshape((len(y_true), 1))\n",
        "        # store\n",
        "        predictions.append(y_pred)\n",
        "        actuals.append(y_true)\n",
        "    predictions, actuals = np.vstack(predictions), np.vstack(actuals)\n",
        "    # calculate f1-score\n",
        "    f1 = f1_score(actuals, predictions)\n",
        "    return f1, actuals, predictions"
      ]
    },
    {
      "cell_type": "code",
      "execution_count": 16,
      "id": "849691be",
      "metadata": {
        "id": "849691be"
      },
      "outputs": [],
      "source": [
        "# make a class prediction for one row of data\n",
        "def predict(row, model):\n",
        "    # make prediction\n",
        "    y_proba = model(row)\n",
        "    # retrieve numpy array\n",
        "    y_proba = y_proba.detach().numpy()\n",
        "    y_pred = y_proba.round() # np.argmax(y_proba) for multi-class classification\n",
        "    return y_proba, y_pred"
      ]
    },
    {
      "cell_type": "markdown",
      "source": [
        "## Objective Function Definition\n",
        "Return the metric to evaluate the hyper-paramter settings."
      ],
      "metadata": {
        "id": "YcOfvCJPx-wL"
      },
      "id": "YcOfvCJPx-wL"
    },
    {
      "cell_type": "code",
      "execution_count": 17,
      "id": "95eb58b6",
      "metadata": {
        "id": "95eb58b6"
      },
      "outputs": [],
      "source": [
        "def objective(params):\n",
        "    \n",
        "    print ('Params testing: ', params)\n",
        "    print ('\\n ')\n",
        "    \n",
        "    # Define the K-fold Cross Validator\n",
        "    kfold = KFold(n_splits=NUM_FOLDS, shuffle=True)\n",
        "    scores = []\n",
        "\n",
        "    # K-fold Cross Validation model evaluation\n",
        "    for fold, (train_ids, valid_ids) in enumerate(kfold.split(train_dl.dataset)):\n",
        "\n",
        "        random.shuffle(train_ids)\n",
        "        \n",
        "        # Sample elements randomly from a given list of ids, no replacement.\n",
        "        train_subsampler = torch.utils.data.SubsetRandomSampler(train_ids)\n",
        "        valid_subsampler = torch.utils.data.SubsetRandomSampler(valid_ids)\n",
        "\n",
        "        # Define data loaders for training and testing data in this fold\n",
        "        trainloader = torch.utils.data.DataLoader(\n",
        "                          train_dl.dataset, \n",
        "                          batch_size=10, sampler=train_subsampler)\n",
        "        validloader = torch.utils.data.DataLoader(\n",
        "                          train_dl.dataset,\n",
        "                          batch_size=10, sampler=valid_subsampler)\n",
        "    \n",
        "        # Train Model\n",
        "        model, avg_train_losses, avg_valid_losses = train_model(train_dl=trainloader, \n",
        "                                                                valid_dl=validloader, \n",
        "                                                                PARA=params,\n",
        "                                                                early_stopping=True, \n",
        "                                                                cross_valid=True)\n",
        "     \n",
        "        #predict the test set \n",
        "        f1, _, _ = evaluate_model(model, validloader)\n",
        "        # print('F1 score: %.3f' % f1)\n",
        "        scores.append(f1)\n",
        "        \n",
        "    mean = round(sum(scores)/len(scores), 3)\n",
        "    print('Mean F1 score from cross validation: %.3f' % mean)\n",
        "    \n",
        "    return -mean"
      ]
    },
    {
      "cell_type": "markdown",
      "source": [
        "## Hyper-parameter Optimization\n",
        "Here we use TPE from hyperopt to optimize the hyper-parameters."
      ],
      "metadata": {
        "id": "TYSNSS-Ex00d"
      },
      "id": "TYSNSS-Ex00d"
    },
    {
      "cell_type": "code",
      "execution_count": 18,
      "id": "f9331000",
      "metadata": {
        "colab": {
          "base_uri": "https://localhost:8080/"
        },
        "id": "f9331000",
        "outputId": "feed9d21-5b60-419e-cd95-501cec9d6d14",
        "scrolled": true
      },
      "outputs": [
        {
          "output_type": "stream",
          "name": "stdout",
          "text": [
            "146 62\n",
            "Params testing: \n",
            "{'hidden_layer1': 10, 'hidden_layer2': 5, 'lr': 0.0001, 'momentum': 0.3}\n",
            "Mean F1 score from cross validation: 0.292\n",
            "Params testing: \n",
            "{'hidden_layer1': 10, 'hidden_layer2': 20, 'lr': 0.001, 'momentum': 0.9}\n",
            "Mean F1 score from cross validation: 0.425\n",
            "Params testing: \n",
            "{'hidden_layer1': 10, 'hidden_layer2': 8, 'lr': 0.0001, 'momentum': 0.5}\n",
            "Mean F1 score from cross validation: 0.324\n",
            "Params testing: \n",
            "{'hidden_layer1': 10, 'hidden_layer2': 20, 'lr': 0.001, 'momentum': 0.3}\n",
            "Mean F1 score from cross validation: 0.414\n",
            "Params testing: \n",
            "{'hidden_layer1': 20, 'hidden_layer2': 20, 'lr': 0.001, 'momentum': 0.5}\n",
            "Mean F1 score from cross validation: 0.432\n",
            "Params testing: \n",
            "{'hidden_layer1': 10, 'hidden_layer2': 20, 'lr': 0.0001, 'momentum': 0.5}\n",
            "Mean F1 score from cross validation: 0.406\n",
            "Params testing: \n",
            "{'hidden_layer1': 20, 'hidden_layer2': 10, 'lr': 0.0001, 'momentum': 0.5}\n",
            "Mean F1 score from cross validation: 0.525\n",
            "Params testing: \n",
            "{'hidden_layer1': 20, 'hidden_layer2': 8, 'lr': 0.01, 'momentum': 0.3}\n",
            "Mean F1 score from cross validation: 0.627\n",
            "Params testing: \n",
            "{'hidden_layer1': 20, 'hidden_layer2': 10, 'lr': 0.01, 'momentum': 0.9}\n",
            "Mean F1 score from cross validation: 0.626\n",
            "Params testing: \n",
            "{'hidden_layer1': 20, 'hidden_layer2': 10, 'lr': 0.0001, 'momentum': 0.8}\n",
            "Mean F1 score from cross validation: 0.417\n",
            "Params testing: \n",
            "{'hidden_layer1': 30, 'hidden_layer2': 5, 'lr': 0.0001, 'momentum': 0.9}\n",
            "Mean F1 score from cross validation: 0.564\n",
            "Params testing: \n",
            "{'hidden_layer1': 20, 'hidden_layer2': 10, 'lr': 0.0001, 'momentum': 0.5}\n",
            "Mean F1 score from cross validation: 0.117\n",
            "Params testing: \n",
            "{'hidden_layer1': 20, 'hidden_layer2': 20, 'lr': 0.0001, 'momentum': 0.3}\n",
            "Mean F1 score from cross validation: 0.506\n",
            "Params testing: \n",
            "{'hidden_layer1': 10, 'hidden_layer2': 10, 'lr': 0.0001, 'momentum': 0.3}\n",
            "Mean F1 score from cross validation: 0.387\n",
            "Params testing: \n",
            "{'hidden_layer1': 20, 'hidden_layer2': 5, 'lr': 0.0001, 'momentum': 0.9}\n",
            "Mean F1 score from cross validation: 0.259\n",
            "Params testing: \n",
            "{'hidden_layer1': 10, 'hidden_layer2': 5, 'lr': 0.001, 'momentum': 0.9}\n",
            "Mean F1 score from cross validation: 0.412\n",
            "Params testing: \n",
            "{'hidden_layer1': 30, 'hidden_layer2': 20, 'lr': 0.0001, 'momentum': 0.8}\n",
            "Mean F1 score from cross validation: 0.248\n",
            "Params testing: \n",
            "{'hidden_layer1': 20, 'hidden_layer2': 8, 'lr': 0.01, 'momentum': 0.3}\n",
            "Mean F1 score from cross validation: 0.677\n",
            "Params testing: \n",
            "{'hidden_layer1': 30, 'hidden_layer2': 20, 'lr': 0.0001, 'momentum': 0.3}\n",
            "Mean F1 score from cross validation: 0.000\n",
            "Params testing: \n",
            "{'hidden_layer1': 10, 'hidden_layer2': 8, 'lr': 0.01, 'momentum': 0.5}\n",
            "Mean F1 score from cross validation: 0.653\n",
            "100%|██████████| 20/20 [00:40<00:00,  2.01s/it, best loss: -0.677]\n",
            "Best Parameters\n",
            "{'hidden_layer1': 20, 'hidden_layer2': 8, 'lr': 0.01, 'momentum': 0.3}\n"
          ]
        }
      ],
      "source": [
        "# prepare the data\n",
        "path = 'https://raw.githubusercontent.com/jbrownlee/Datasets/master/sonar.csv'\n",
        "train_dl, test_dl = prepare_data(path)\n",
        "print(len(train_dl.dataset), len(test_dl.dataset))\n",
        "\n",
        "# hyper-parameter optimization with hyperopt\n",
        "# define space\n",
        "nn_space = {'lr' : hp.choice('lr', np.logspace(-2, -4, 3)),\n",
        "            'momentum': hp.choice('momentum', [0.3,0.5,0.8,0.9]),\n",
        "            'hidden_layer1': hp.choice('hidden_layer1', [10,20,30]),\n",
        "            'hidden_layer2': hp.choice('hidden_layer2', [5,8,10,20]),\n",
        "           }\n",
        "\n",
        "trials = Trials()\n",
        "\n",
        "# Run Hyper Optimization\n",
        "para_best = fmin(\n",
        "    fn=objective,\n",
        "    space=nn_space,\n",
        "    algo=tpe.suggest,\n",
        "    return_argmin=False,\n",
        "    verbose=True,\n",
        "    trials=trials,\n",
        "    max_evals=20,  # Max Number of Iterations\n",
        "    rstate=np.random.RandomState(0)\n",
        ")\n",
        "\n",
        "print(\"Best Parameters\")\n",
        "print(para_best)"
      ]
    },
    {
      "cell_type": "markdown",
      "source": [
        "### Print the best hyper-parameter settings"
      ],
      "metadata": {
        "id": "9ZD4vmEFyRq-"
      },
      "id": "9ZD4vmEFyRq-"
    },
    {
      "cell_type": "code",
      "execution_count": 19,
      "id": "b3d5ca38",
      "metadata": {
        "colab": {
          "base_uri": "https://localhost:8080/"
        },
        "id": "b3d5ca38",
        "outputId": "16537cdc-8d51-4b5a-cf9f-e497554e6d0a",
        "scrolled": true
      },
      "outputs": [
        {
          "output_type": "execute_result",
          "data": {
            "text/plain": [
              "{'hidden_layer1': 20, 'hidden_layer2': 8, 'lr': 0.01, 'momentum': 0.3}"
            ]
          },
          "metadata": {},
          "execution_count": 19
        }
      ],
      "source": [
        "para_best"
      ]
    },
    {
      "cell_type": "markdown",
      "source": [
        "## Traing with the best hyper-paramters"
      ],
      "metadata": {
        "id": "jrzV92Mtyi0f"
      },
      "id": "jrzV92Mtyi0f"
    },
    {
      "cell_type": "code",
      "execution_count": 20,
      "id": "2faca074",
      "metadata": {
        "colab": {
          "base_uri": "https://localhost:8080/",
          "height": 1000
        },
        "id": "2faca074",
        "outputId": "e29dba81-eeb8-4ae6-fba0-e0ea915091a2"
      },
      "outputs": [
        {
          "output_type": "stream",
          "name": "stdout",
          "text": [
            "[  1/100] train_loss: 0.76309 \n",
            "[  2/100] train_loss: 0.73123 \n",
            "[  3/100] train_loss: 0.70712 \n",
            "[  4/100] train_loss: 0.69297 \n",
            "[  5/100] train_loss: 0.68178 \n",
            "[  6/100] train_loss: 0.67785 \n",
            "[  7/100] train_loss: 0.67145 \n",
            "[  8/100] train_loss: 0.66812 \n",
            "[  9/100] train_loss: 0.65893 \n",
            "[ 10/100] train_loss: 0.66210 \n",
            "[ 11/100] train_loss: 0.65828 \n",
            "[ 12/100] train_loss: 0.64855 \n",
            "[ 13/100] train_loss: 0.64858 \n",
            "[ 14/100] train_loss: 0.64308 \n",
            "[ 15/100] train_loss: 0.64468 \n",
            "[ 16/100] train_loss: 0.63519 \n",
            "[ 17/100] train_loss: 0.63599 \n",
            "[ 18/100] train_loss: 0.63431 \n",
            "[ 19/100] train_loss: 0.63311 \n",
            "[ 20/100] train_loss: 0.63026 \n",
            "[ 21/100] train_loss: 0.62856 \n",
            "[ 22/100] train_loss: 0.63361 \n",
            "[ 23/100] train_loss: 0.62589 \n",
            "[ 24/100] train_loss: 0.62787 \n",
            "[ 25/100] train_loss: 0.62276 \n",
            "[ 26/100] train_loss: 0.62105 \n",
            "[ 27/100] train_loss: 0.62328 \n",
            "[ 28/100] train_loss: 0.61622 \n",
            "[ 29/100] train_loss: 0.61403 \n",
            "[ 30/100] train_loss: 0.61485 \n",
            "[ 31/100] train_loss: 0.61106 \n",
            "[ 32/100] train_loss: 0.61461 \n",
            "[ 33/100] train_loss: 0.60813 \n",
            "[ 34/100] train_loss: 0.60938 \n",
            "[ 35/100] train_loss: 0.60225 \n",
            "[ 36/100] train_loss: 0.60509 \n",
            "[ 37/100] train_loss: 0.60307 \n",
            "[ 38/100] train_loss: 0.59139 \n",
            "[ 39/100] train_loss: 0.59466 \n",
            "[ 40/100] train_loss: 0.59104 \n",
            "[ 41/100] train_loss: 0.60088 \n",
            "[ 42/100] train_loss: 0.59013 \n",
            "[ 43/100] train_loss: 0.59101 \n",
            "[ 44/100] train_loss: 0.59540 \n",
            "[ 45/100] train_loss: 0.59062 \n",
            "[ 46/100] train_loss: 0.59114 \n",
            "[ 47/100] train_loss: 0.58660 \n",
            "[ 48/100] train_loss: 0.58139 \n",
            "[ 49/100] train_loss: 0.58921 \n",
            "[ 50/100] train_loss: 0.57918 \n",
            "[ 51/100] train_loss: 0.58367 \n",
            "[ 52/100] train_loss: 0.57881 \n",
            "[ 53/100] train_loss: 0.58500 \n",
            "[ 54/100] train_loss: 0.57510 \n",
            "[ 55/100] train_loss: 0.57264 \n",
            "[ 56/100] train_loss: 0.57592 \n",
            "[ 57/100] train_loss: 0.56663 \n",
            "[ 58/100] train_loss: 0.56678 \n",
            "[ 59/100] train_loss: 0.56775 \n",
            "[ 60/100] train_loss: 0.57623 \n",
            "[ 61/100] train_loss: 0.56280 \n",
            "[ 62/100] train_loss: 0.56738 \n",
            "[ 63/100] train_loss: 0.55716 \n",
            "[ 64/100] train_loss: 0.56509 \n",
            "[ 65/100] train_loss: 0.56213 \n",
            "[ 66/100] train_loss: 0.56442 \n",
            "[ 67/100] train_loss: 0.55466 \n",
            "[ 68/100] train_loss: 0.55504 \n",
            "[ 69/100] train_loss: 0.55495 \n",
            "[ 70/100] train_loss: 0.54879 \n",
            "[ 71/100] train_loss: 0.55163 \n",
            "[ 72/100] train_loss: 0.55056 \n",
            "[ 73/100] train_loss: 0.55489 \n",
            "[ 74/100] train_loss: 0.55270 \n",
            "[ 75/100] train_loss: 0.54345 \n",
            "[ 76/100] train_loss: 0.54730 \n",
            "[ 77/100] train_loss: 0.54031 \n",
            "[ 78/100] train_loss: 0.53917 \n",
            "[ 79/100] train_loss: 0.54815 \n",
            "[ 80/100] train_loss: 0.54007 \n",
            "[ 81/100] train_loss: 0.53762 \n",
            "[ 82/100] train_loss: 0.53925 \n",
            "[ 83/100] train_loss: 0.53980 \n",
            "[ 84/100] train_loss: 0.54347 \n",
            "[ 85/100] train_loss: 0.52676 \n",
            "[ 86/100] train_loss: 0.54219 \n",
            "[ 87/100] train_loss: 0.53642 \n",
            "[ 88/100] train_loss: 0.53045 \n",
            "[ 89/100] train_loss: 0.51666 \n",
            "[ 90/100] train_loss: 0.53008 \n",
            "[ 91/100] train_loss: 0.53581 \n",
            "[ 92/100] train_loss: 0.52129 \n",
            "[ 93/100] train_loss: 0.51847 \n",
            "[ 94/100] train_loss: 0.51805 \n",
            "[ 95/100] train_loss: 0.51791 \n",
            "[ 96/100] train_loss: 0.51696 \n",
            "[ 97/100] train_loss: 0.51835 \n",
            "[ 98/100] train_loss: 0.50904 \n",
            "[ 99/100] train_loss: 0.51728 \n",
            "[100/100] train_loss: 0.51199 \n",
            "Test F1-Score: 0.651\n"
          ]
        },
        {
          "output_type": "display_data",
          "data": {
            "text/plain": [
              "<Figure size 600x450 with 2 Axes>"
            ],
            "image/png": "[encoded data removed]"
          },
          "metadata": {
            "needs_background": "light"
          }
        },
        {
          "output_type": "stream",
          "name": "stdout",
          "text": [
            "Predicted class=1 (y_proba=0.746) vs (Actual class=1)\n"
          ]
        }
      ],
      "source": [
        "# train the model\n",
        "model, avg_train_losses, avg_valid_losses = train_model(train_dl=train_dl, \n",
        "                                                        valid_dl=None, \n",
        "                                                        PARA=para_best,\n",
        "                                                        early_stopping=True)\n",
        "# evaluate the model\n",
        "F1_test, actuals_test, predictions_test = evaluate_model(model, test_dl)\n",
        "\n",
        "print(f\"Test F1-Score: {round(F1_test, 3)}\")\n",
        "\n",
        "# Show summary of performance\n",
        "cf_matrix = confusion_matrix(actuals_test, predictions_test)\n",
        "\n",
        "plt.figure(dpi=150, figsize=(4, 3))\n",
        "sns.heatmap(cf_matrix, annot=True)\n",
        "plt.show()\n",
        "\n",
        "# make a single prediction (expect class=1)\n",
        "for inputs, targets in test_dl:  \n",
        "    sample_X_test = inputs[0] \n",
        "    sample_y_test = targets[0]\n",
        "y_proba, y_pred = predict(sample_X_test, model)\n",
        "print('Predicted class=%d (y_proba=%.3f) vs (Actual class=%d)' % (y_pred, y_proba, sample_y_test.numpy()[0]))"
      ]
    },
    {
      "cell_type": "markdown",
      "id": "567ff305",
      "metadata": {
        "id": "567ff305"
      },
      "source": [
        "---"
      ]
    },
    {
      "cell_type": "markdown",
      "id": "0ab3376a",
      "metadata": {
        "id": "0ab3376a"
      },
      "source": [
        "## Reference\n",
        "\n",
        "1. https://machinelearningmastery.com/pytorch-tutorial-develop-deep-learning-models/\n",
        "2. https://www.machinecurve.com/index.php/2021/02/03/how-to-use-k-fold-cross-validation-with-pytorch/\n",
        "3. https://github.com/Bjarten/early-stopping-pytorch/blob/master/MNIST_Early_Stopping_example.ipynb"
      ]
    }
  ],
  "metadata": {
    "colab": {
      "name": "hyperopt-pytorch-example.ipynb",
      "provenance": [],
      "collapsed_sections": []
    },
    "kernelspec": {
      "display_name": "Python 3",
      "language": "python",
      "name": "python3"
    },
    "language_info": {
      "codemirror_mode": {
        "name": "ipython",
        "version": 3
      },
      "file_extension": ".py",
      "mimetype": "text/x-python",
      "name": "python",
      "nbconvert_exporter": "python",
      "pygments_lexer": "ipython3",
      "version": "3.6.9"
    },
    "accelerator": "GPU"
  },
  "nbformat": 4,
  "nbformat_minor": 5
}