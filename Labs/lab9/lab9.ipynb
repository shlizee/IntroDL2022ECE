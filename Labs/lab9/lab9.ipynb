{
  "cells": [
    {
      "cell_type": "code",
      "execution_count": null,
      "metadata": {
        "id": "iMrPEwV3VkGH"
      },
      "outputs": [],
      "source": [
        "%matplotlib inline"
      ]
    },
    {
      "cell_type": "markdown",
      "metadata": {},
      "source": [
        "# Example: DQN on CartPole-v0"
      ]
    },
    {
      "cell_type": "code",
      "execution_count": 2,
      "metadata": {
        "id": "kp9bGDl9VoUJ"
      },
      "outputs": [],
      "source": [
        "!pip install gym pyvirtualdisplay > /dev/null 2>&1\n",
        "!apt-get install -y xvfb python-opengl ffmpeg > /dev/null 2>&1"
      ]
    },
    {
      "cell_type": "code",
      "execution_count": 3,
      "metadata": {
        "colab": {
          "base_uri": "https://localhost:8080/",
          "height": 354
        },
        "id": "yoW5yHNgVqCr",
        "outputId": "4b9e822f-fae5-4753-b880-4c748ba0f3b1"
      },
      "outputs": [
        {
          "name": "stdout",
          "output_type": "stream",
          "text": [
            "Requirement already satisfied: setuptools in /usr/local/lib/python3.7/dist-packages (57.4.0)\n",
            "Collecting setuptools\n",
            "  Downloading setuptools-62.3.2-py3-none-any.whl (1.2 MB)\n",
            "\u001b[K     |████████████████████████████████| 1.2 MB 7.0 MB/s \n",
            "\u001b[?25hInstalling collected packages: setuptools\n",
            "  Attempting uninstall: setuptools\n",
            "    Found existing installation: setuptools 57.4.0\n",
            "    Uninstalling setuptools-57.4.0:\n",
            "      Successfully uninstalled setuptools-57.4.0\n",
            "\u001b[31mERROR: pip's dependency resolver does not currently take into account all the packages that are installed. This behaviour is the source of the following dependency conflicts.\n",
            "tensorflow 2.8.0+zzzcolab20220506162203 requires tf-estimator-nightly==2.8.0.dev2021122109, which is not installed.\n",
            "datascience 0.10.6 requires folium==0.2.1, but you have folium 0.8.3 which is incompatible.\u001b[0m\n",
            "Successfully installed setuptools-62.3.2\n"
          ]
        },
        {
          "data": {
            "application/vnd.colab-display-data+json": {
              "pip_warning": {
                "packages": [
                  "pkg_resources"
                ]
              }
            }
          },
          "metadata": {},
          "output_type": "display_data"
        }
      ],
      "source": [
        "!apt-get update > /dev/null 2>&1\n",
        "!apt-get install cmake > /dev/null 2>&1\n",
        "!pip install --upgrade setuptools 2>&1\n",
        "!pip install ez_setup > /dev/null 2>&1\n",
        "!pip install gym[atari] > /dev/null 2>&1"
      ]
    },
    {
      "cell_type": "code",
      "execution_count": 2,
      "metadata": {
        "id": "oROD2V8LVsTU"
      },
      "outputs": [],
      "source": [
        "import gym\n",
        "from gym.wrappers import Monitor\n",
        "import glob\n",
        "import io\n",
        "import base64\n",
        "from IPython.display import HTML\n",
        "from pyvirtualdisplay import Display\n",
        "from IPython import display as ipythondisplay\n",
        "\n",
        "display = Display(visible=0, size=(1400, 900))\n",
        "display.start()\n",
        "\n",
        "\"\"\"\n",
        "Utility functions to enable video recording of gym environment \n",
        "and displaying it.\n",
        "To enable video, just do \"env = wrap_env(env)\"\"\n",
        "\"\"\"\n",
        "\n",
        "def show_video():\n",
        "  mp4list = glob.glob('video/*.mp4')\n",
        "  if len(mp4list) > 0:\n",
        "    mp4 = mp4list[0]\n",
        "    video = io.open(mp4, 'r+b').read()\n",
        "    encoded = base64.b64encode(video)\n",
        "    ipythondisplay.display(HTML(data='''<video alt=\"test\" autoplay \n",
        "                loop controls style=\"height: 400px;\">\n",
        "                <source src=\"data:video/mp4;base64,{0}\" type=\"video/mp4\" />\n",
        "             </video>'''.format(encoded.decode('ascii'))))\n",
        "  else: \n",
        "    print(\"Could not find video\")\n",
        "    \n",
        "\n",
        "def wrap_env(env):\n",
        "  env = Monitor(env, './video', force=True)\n",
        "  return env"
      ]
    },
    {
      "cell_type": "markdown",
      "metadata": {
        "id": "3wikefiGVkGK"
      },
      "source": [
        "\n",
        "Reinforcement Learning (DQN) Tutorial\n",
        "=====================================\n",
        "**Author**: `Adam Paszke <https://github.com/apaszke>`_\n",
        "\n",
        "\n",
        "This tutorial shows how to use PyTorch to train a Deep Q Learning (DQN) agent\n",
        "on the CartPole-v0 task from the `OpenAI Gym <https://gym.openai.com/>`__.\n",
        "\n",
        "**Task**\n",
        "\n",
        "The agent has to decide between two actions - moving the cart left or\n",
        "right - so that the pole attached to it stays upright. You can find an\n",
        "official leaderboard with various algorithms and visualizations at the\n",
        "`Gym website <https://gym.openai.com/envs/CartPole-v0>`__.\n",
        "\n",
        ".. figure:: /_static/img/cartpole.gif\n",
        "   :alt: cartpole\n",
        "\n",
        "   cartpole\n",
        "\n",
        "As the agent observes the current state of the environment and chooses\n",
        "an action, the environment *transitions* to a new state, and also\n",
        "returns a reward that indicates the consequences of the action. In this\n",
        "task, rewards are +1 for every incremental timestep and the environment\n",
        "terminates if the pole falls over too far or the cart moves more then 2.4\n",
        "units away from center. This means better performing scenarios will run\n",
        "for longer duration, accumulating larger return.\n",
        "\n",
        "The CartPole task is designed so that the inputs to the agent are 4 real\n",
        "values representing the environment state (position, velocity, etc.).\n",
        "However, neural networks can solve the task purely by looking at the\n",
        "scene, so we'll use a patch of the screen centered on the cart as an\n",
        "input. Because of this, our results aren't directly comparable to the\n",
        "ones from the official leaderboard - our task is much harder.\n",
        "Unfortunately this does slow down the training, because we have to\n",
        "render all the frames.\n",
        "\n",
        "Strictly speaking, we will present the state as the difference between\n",
        "the current screen patch and the previous one. This will allow the agent\n",
        "to take the velocity of the pole into account from one image.\n",
        "\n",
        "**Packages**\n",
        "\n",
        "\n",
        "First, let's import needed packages. Firstly, we need\n",
        "`gym <https://gym.openai.com/docs>`__ for the environment\n",
        "(Install using `pip install gym`).\n",
        "We'll also use the following from PyTorch:\n",
        "\n",
        "-  neural networks (``torch.nn``)\n",
        "-  optimization (``torch.optim``)\n",
        "-  automatic differentiation (``torch.autograd``)\n",
        "-  utilities for vision tasks (``torchvision`` - `a separate\n",
        "   package <https://github.com/pytorch/vision>`__).\n"
      ]
    },
    {
      "cell_type": "code",
      "execution_count": 3,
      "metadata": {
        "id": "yjAvbbqFVkGM"
      },
      "outputs": [],
      "source": [
        "import math\n",
        "import random\n",
        "import numpy as np\n",
        "import matplotlib\n",
        "import matplotlib.pyplot as plt\n",
        "from collections import namedtuple, deque\n",
        "from itertools import count\n",
        "from PIL import Image\n",
        "\n",
        "import torch\n",
        "import torch.nn as nn\n",
        "import torch.optim as optim\n",
        "import torch.nn.functional as F\n",
        "import torchvision.transforms as T\n",
        "\n",
        "\n",
        "env = gym.make('CartPole-v0').unwrapped\n",
        "\n",
        "# set up matplotlib\n",
        "is_ipython = 'inline' in matplotlib.get_backend()\n",
        "if is_ipython:\n",
        "    from IPython import display\n",
        "\n",
        "plt.ion()\n",
        "\n",
        "# if gpu is to be used\n",
        "device = torch.device(\"cuda\" if torch.cuda.is_available() else \"cpu\")"
      ]
    },
    {
      "cell_type": "markdown",
      "metadata": {
        "id": "2IgMcgxYVkGN"
      },
      "source": [
        "Replay Memory\n",
        "-------------\n",
        "\n",
        "We'll be using experience replay memory for training our DQN. It stores\n",
        "the transitions that the agent observes, allowing us to reuse this data\n",
        "later. By sampling from it randomly, the transitions that build up a\n",
        "batch are decorrelated. It has been shown that this greatly stabilizes\n",
        "and improves the DQN training procedure.\n",
        "\n",
        "For this, we're going to need two classses:\n",
        "\n",
        "-  ``Transition`` - a named tuple representing a single transition in\n",
        "   our environment. It essentially maps (state, action) pairs\n",
        "   to their (next_state, reward) result, with the state being the\n",
        "   screen difference image as described later on.\n",
        "-  ``ReplayMemory`` - a cyclic buffer of bounded size that holds the\n",
        "   transitions observed recently. It also implements a ``.sample()``\n",
        "   method for selecting a random batch of transitions for training.\n",
        "\n",
        "\n"
      ]
    },
    {
      "cell_type": "code",
      "execution_count": 4,
      "metadata": {
        "id": "TXDQ5lJyVkGO"
      },
      "outputs": [],
      "source": [
        "Transition = namedtuple('Transition',\n",
        "                        ('state', 'action', 'next_state', 'reward'))\n",
        "\n",
        "\n",
        "class ReplayMemory(object):\n",
        "\n",
        "    def __init__(self, capacity):\n",
        "        self.memory = deque([],maxlen=capacity)\n",
        "\n",
        "    def push(self, *args):\n",
        "        \"\"\"Save a transition\"\"\"\n",
        "        self.memory.append(Transition(*args))\n",
        "\n",
        "    def sample(self, batch_size):\n",
        "        return random.sample(self.memory, batch_size)\n",
        "\n",
        "    def __len__(self):\n",
        "        return len(self.memory)"
      ]
    },
    {
      "cell_type": "markdown",
      "metadata": {
        "id": "TRVnLiyyVkGO"
      },
      "source": [
        "Now, let's define our model. But first, let's quickly recap what a DQN is.\n",
        "\n",
        "## DQN algorithm\n",
        "\n",
        "Our environment is deterministic, so all equations presented here are\n",
        "also formulated deterministically for the sake of simplicity. In the\n",
        "reinforcement learning literature, they would also contain expectations\n",
        "over stochastic transitions in the environment.\n",
        "\n",
        "Our aim will be to train a policy that tries to maximize the discounted,\n",
        "cumulative reward\n",
        "$R_{t_0} = \\sum_{t=t_0}^{\\infty} \\gamma^{t - t_0} r_t$, where\n",
        "$R_{t_0}$ is also known as the *return*. The discount,\n",
        "$\\gamma$, should be a constant between $0$ and $1$\n",
        "that ensures the sum converges. It makes rewards from the uncertain far\n",
        "future less important for our agent than the ones in the near future\n",
        "that it can be fairly confident about.\n",
        "\n",
        "The main idea behind Q-learning is that if we had a function\n",
        "$Q^*: State \\times Action \\rightarrow \\mathbb{R}$, that could tell\n",
        "us what our return would be, if we were to take an action in a given\n",
        "state, then we could easily construct a policy that maximizes our\n",
        "rewards:\n",
        "\n",
        "\\begin{align}\\pi^*(s) = \\arg\\!\\max_a \\ Q^*(s, a)\\end{align}\n",
        "\n",
        "However, we don't know everything about the world, so we don't have\n",
        "access to $Q^*$. But, since neural networks are universal function\n",
        "approximators, we can simply create one and train it to resemble\n",
        "$Q^*$.\n",
        "\n",
        "For our training update rule, we'll use a fact that every $Q$\n",
        "function for some policy obeys the Bellman equation:\n",
        "\n",
        "\\begin{align}Q^{\\pi}(s, a) = r + \\gamma Q^{\\pi}(s', \\pi(s'))\\end{align}\n",
        "\n",
        "The difference between the two sides of the equality is known as the\n",
        "temporal difference error, $\\delta$:\n",
        "\n",
        "\\begin{align}\\delta = Q(s, a) - (r + \\gamma \\max_a Q(s', a))\\end{align}\n",
        "\n",
        "To minimise this error, we will use the `Huber\n",
        "loss <https://en.wikipedia.org/wiki/Huber_loss>`__. The Huber loss acts\n",
        "like the mean squared error when the error is small, but like the mean\n",
        "absolute error when the error is large - this makes it more robust to\n",
        "outliers when the estimates of $Q$ are very noisy. We calculate\n",
        "this over a batch of transitions, $B$, sampled from the replay\n",
        "memory:\n",
        "\n",
        "\\begin{align}\\mathcal{L} = \\frac{1}{|B|}\\sum_{(s, a, s', r) \\ \\in \\ B} \\mathcal{L}(\\delta)\\end{align}\n",
        "\n",
        "\\begin{align}\\text{where} \\quad \\mathcal{L}(\\delta) = \\begin{cases}\n",
        "     \\frac{1}{2}{\\delta^2}  & \\text{for } |\\delta| \\le 1, \\\\\n",
        "     |\\delta| - \\frac{1}{2} & \\text{otherwise.}\n",
        "   \\end{cases}\\end{align}\n",
        "\n",
        "Q-network\n",
        "^^^^^^^^^\n",
        "\n",
        "Our model will be a convolutional neural network that takes in the\n",
        "difference between the current and previous screen patches. It has two\n",
        "outputs, representing $Q(s, \\mathrm{left})$ and\n",
        "$Q(s, \\mathrm{right})$ (where $s$ is the input to the\n",
        "network). In effect, the network is trying to predict the *expected return* of\n",
        "taking each action given the current input.\n",
        "\n",
        "\n"
      ]
    },
    {
      "cell_type": "code",
      "execution_count": 5,
      "metadata": {
        "id": "osohYj_uVkGP"
      },
      "outputs": [],
      "source": [
        "class DQN(nn.Module):\n",
        "\n",
        "    def __init__(self, h, w, outputs):\n",
        "        super(DQN, self).__init__()\n",
        "        self.conv1 = nn.Conv2d(3, 16, kernel_size=5, stride=2)\n",
        "        self.bn1 = nn.BatchNorm2d(16)\n",
        "        self.conv2 = nn.Conv2d(16, 32, kernel_size=5, stride=2)\n",
        "        self.bn2 = nn.BatchNorm2d(32)\n",
        "        self.conv3 = nn.Conv2d(32, 32, kernel_size=5, stride=2)\n",
        "        self.bn3 = nn.BatchNorm2d(32)\n",
        "\n",
        "        # Number of Linear input connections depends on output of conv2d layers\n",
        "        # and therefore the input image size, so compute it.\n",
        "        def conv2d_size_out(size, kernel_size = 5, stride = 2):\n",
        "            return (size - (kernel_size - 1) - 1) // stride  + 1\n",
        "        convw = conv2d_size_out(conv2d_size_out(conv2d_size_out(w)))\n",
        "        convh = conv2d_size_out(conv2d_size_out(conv2d_size_out(h)))\n",
        "        linear_input_size = convw * convh * 32\n",
        "        self.head = nn.Linear(linear_input_size, outputs)\n",
        "\n",
        "    # Called with either one element to determine next action, or a batch\n",
        "    # during optimization. Returns tensor([[left0exp,right0exp]...]).\n",
        "    def forward(self, x):\n",
        "        x = x.to(device)\n",
        "        x = F.relu(self.bn1(self.conv1(x)))\n",
        "        x = F.relu(self.bn2(self.conv2(x)))\n",
        "        x = F.relu(self.bn3(self.conv3(x)))\n",
        "        return self.head(x.view(x.size(0), -1))"
      ]
    },
    {
      "cell_type": "markdown",
      "metadata": {
        "id": "BSk8xZZUVkGP"
      },
      "source": [
        "Input extraction\n",
        "\n",
        "^^^^^^^^^^^^^^^^\n",
        "\n",
        "The code below are utilities for extracting and processing rendered\n",
        "images from the environment. It uses the ``torchvision`` package, which\n",
        "makes it easy to compose image transforms. Once you run the cell it will\n",
        "display an example patch that it extracted.\n",
        "\n",
        "\n"
      ]
    },
    {
      "cell_type": "code",
      "execution_count": 6,
      "metadata": {
        "colab": {
          "base_uri": "https://localhost:8080/",
          "height": 268
        },
        "id": "hKyJk-GhVkGQ",
        "outputId": "ed18e26a-3316-4c7f-cf7b-71820e34ab0f"
      },
      "outputs": [
        {
          "name": "stderr",
          "output_type": "stream",
          "text": [
            "/usr/local/lib/python3.7/dist-packages/torchvision/transforms/transforms.py:333: UserWarning: Argument interpolation should be of type InterpolationMode instead of int. Please, use InterpolationMode enum.\n",
            "  \"Argument interpolation should be of type InterpolationMode instead of int. \"\n"
          ]
        },
        {
          "data": {
            "image/png": "[encoded data removed]",
            "text/plain": [
              "<Figure size 432x288 with 1 Axes>"
            ]
          },
          "metadata": {
            "needs_background": "light"
          },
          "output_type": "display_data"
        }
      ],
      "source": [
        "resize = T.Compose([T.ToPILImage(),\n",
        "                    T.Resize(40, interpolation=Image.CUBIC),\n",
        "                    T.ToTensor()])\n",
        "\n",
        "\n",
        "def get_cart_location(screen_width):\n",
        "    world_width = env.x_threshold * 2\n",
        "    scale = screen_width / world_width\n",
        "    return int(env.state[0] * scale + screen_width / 2.0)  # MIDDLE OF CART\n",
        "\n",
        "def get_screen():\n",
        "    # Returned screen requested by gym is 400x600x3, but is sometimes larger\n",
        "    # such as 800x1200x3. Transpose it into torch order (CHW).\n",
        "    screen = env.render(mode='rgb_array').transpose((2, 0, 1))\n",
        "    # Cart is in the lower half, so strip off the top and bottom of the screen\n",
        "    _, screen_height, screen_width = screen.shape\n",
        "    screen = screen[:, int(screen_height*0.4):int(screen_height * 0.8)]\n",
        "    view_width = int(screen_width * 0.6)\n",
        "    cart_location = get_cart_location(screen_width)\n",
        "    if cart_location < view_width // 2:\n",
        "        slice_range = slice(view_width)\n",
        "    elif cart_location > (screen_width - view_width // 2):\n",
        "        slice_range = slice(-view_width, None)\n",
        "    else:\n",
        "        slice_range = slice(cart_location - view_width // 2,\n",
        "                            cart_location + view_width // 2)\n",
        "    # Strip off the edges, so that we have a square image centered on a cart\n",
        "    screen = screen[:, :, slice_range]\n",
        "    # Convert to float, rescale, convert to torch tensor\n",
        "    # (this doesn't require a copy)\n",
        "    screen = np.ascontiguousarray(screen, dtype=np.float32) / 255\n",
        "    screen = torch.from_numpy(screen)\n",
        "    # Resize, and add a batch dimension (BCHW)\n",
        "    return resize(screen).unsqueeze(0)\n",
        "\n",
        "\n",
        "env.reset()\n",
        "plt.figure()\n",
        "plt.imshow(get_screen().cpu().squeeze(0).permute(1, 2, 0).numpy(),\n",
        "           interpolation='none')\n",
        "plt.title('Example extracted screen')\n",
        "plt.show()"
      ]
    },
    {
      "cell_type": "markdown",
      "metadata": {
        "id": "DaiAt6bKVkGQ"
      },
      "source": [
        "## Training\n",
        "\n",
        "Hyperparameters and utilities\n",
        "\n",
        "^^^^^^^^^^^^^^^^^^^^^^^^^^^^^\n",
        "\n",
        "This cell instantiates our model and its optimizer, and defines some\n",
        "utilities:\n",
        "\n",
        "-  ``select_action`` - will select an action accordingly to an epsilon\n",
        "   greedy policy. Simply put, we'll sometimes use our model for choosing\n",
        "   the action, and sometimes we'll just sample one uniformly. The\n",
        "   probability of choosing a random action will start at ``EPS_START``\n",
        "   and will decay exponentially towards ``EPS_END``. ``EPS_DECAY``\n",
        "   controls the rate of the decay.\n",
        "-  ``plot_durations`` - a helper for plotting the durations of episodes,\n",
        "   along with an average over the last 100 episodes (the measure used in\n",
        "   the official evaluations). The plot will be underneath the cell\n",
        "   containing the main training loop, and will update after every\n",
        "   episode.\n",
        "\n",
        "\n"
      ]
    },
    {
      "cell_type": "code",
      "execution_count": 7,
      "metadata": {
        "id": "4puyWGbZVkGR"
      },
      "outputs": [],
      "source": [
        "BATCH_SIZE = 128\n",
        "GAMMA = 0.999\n",
        "EPS_START = 0.9\n",
        "EPS_END = 0.05\n",
        "EPS_DECAY = 200\n",
        "TARGET_UPDATE = 10\n",
        "\n",
        "# Get screen size so that we can initialize layers correctly based on shape\n",
        "# returned from AI gym. Typical dimensions at this point are close to 3x40x90\n",
        "# which is the result of a clamped and down-scaled render buffer in get_screen()\n",
        "init_screen = get_screen()\n",
        "_, _, screen_height, screen_width = init_screen.shape\n",
        "\n",
        "# Get number of actions from gym action space\n",
        "n_actions = env.action_space.n\n",
        "\n",
        "policy_net = DQN(screen_height, screen_width, n_actions).to(device)\n",
        "target_net = DQN(screen_height, screen_width, n_actions).to(device)\n",
        "target_net.load_state_dict(policy_net.state_dict())\n",
        "target_net.eval()\n",
        "\n",
        "optimizer = optim.RMSprop(policy_net.parameters())\n",
        "memory = ReplayMemory(10000)\n",
        "\n",
        "\n",
        "steps_done = 0\n",
        "\n",
        "\n",
        "def select_action(state):\n",
        "    global steps_done\n",
        "    sample = random.random()\n",
        "    eps_threshold = EPS_END + (EPS_START - EPS_END) * \\\n",
        "        math.exp(-1. * steps_done / EPS_DECAY)\n",
        "    steps_done += 1\n",
        "    if sample > eps_threshold:\n",
        "        with torch.no_grad():\n",
        "            # t.max(1) will return largest column value of each row.\n",
        "            # second column on max result is index of where max element was\n",
        "            # found, so we pick action with the larger expected reward.\n",
        "            return policy_net(state).max(1)[1].view(1, 1)\n",
        "    else:\n",
        "        return torch.tensor([[random.randrange(n_actions)]], device=device, dtype=torch.long)\n",
        "\n",
        "\n",
        "episode_durations = []\n",
        "\n",
        "\n",
        "def plot_durations():\n",
        "    plt.figure(2)\n",
        "    plt.clf()\n",
        "    durations_t = torch.tensor(episode_durations, dtype=torch.float)\n",
        "    plt.title('Training...')\n",
        "    plt.xlabel('Episode')\n",
        "    plt.ylabel('Duration')\n",
        "    plt.plot(durations_t.numpy())\n",
        "    # Take 100 episode averages and plot them too\n",
        "    if len(durations_t) >= 100:\n",
        "        means = durations_t.unfold(0, 100, 1).mean(1).view(-1)\n",
        "        means = torch.cat((torch.zeros(99), means))\n",
        "        plt.plot(means.numpy())\n",
        "\n",
        "    plt.pause(0.001)  # pause a bit so that plots are updated\n",
        "    if is_ipython:\n",
        "        display.clear_output(wait=True)\n",
        "        display.display(plt.gcf())"
      ]
    },
    {
      "cell_type": "markdown",
      "metadata": {
        "id": "mBu2BBtlVkGR"
      },
      "source": [
        "## Training loop\n",
        "Finally, the code for training our model.\n",
        "\n",
        "Here, you can find an ``optimize_model`` function that performs a\n",
        "single step of the optimization. It first samples a batch, concatenates\n",
        "all the tensors into a single one, computes $Q(s_t, a_t)$ and\n",
        "$V(s_{t+1}) = \\max_a Q(s_{t+1}, a)$, and combines them into our\n",
        "loss. By definition we set $V(s) = 0$ if $s$ is a terminal\n",
        "state. We also use a target network to compute $V(s_{t+1})$ for\n",
        "added stability. The target network has its weights kept frozen most of\n",
        "the time, but is updated with the policy network's weights every so often.\n",
        "This is usually a set number of steps but we shall use episodes for\n",
        "simplicity.\n",
        "\n",
        "\n"
      ]
    },
    {
      "cell_type": "code",
      "execution_count": 8,
      "metadata": {
        "id": "a-WuEDZuVkGS"
      },
      "outputs": [],
      "source": [
        "def optimize_model():\n",
        "    if len(memory) < BATCH_SIZE:\n",
        "        return\n",
        "    transitions = memory.sample(BATCH_SIZE)\n",
        "    # Transpose the batch (see https://stackoverflow.com/a/19343/3343043 for\n",
        "    # detailed explanation). This converts batch-array of Transitions\n",
        "    # to Transition of batch-arrays.\n",
        "    batch = Transition(*zip(*transitions))\n",
        "\n",
        "    # Compute a mask of non-final states and concatenate the batch elements\n",
        "    # (a final state would've been the one after which simulation ended)\n",
        "    non_final_mask = torch.tensor(tuple(map(lambda s: s is not None,\n",
        "                                          batch.next_state)), device=device, dtype=torch.bool)\n",
        "    non_final_next_states = torch.cat([s for s in batch.next_state\n",
        "                                                if s is not None])\n",
        "    state_batch = torch.cat(batch.state)\n",
        "    action_batch = torch.cat(batch.action)\n",
        "    reward_batch = torch.cat(batch.reward)\n",
        "\n",
        "    # Compute Q(s_t, a) - the model computes Q(s_t), then we select the\n",
        "    # columns of actions taken. These are the actions which would've been taken\n",
        "    # for each batch state according to policy_net\n",
        "    state_action_values = policy_net(state_batch).gather(1, action_batch)\n",
        "\n",
        "    # Compute V(s_{t+1}) for all next states.\n",
        "    # Expected values of actions for non_final_next_states are computed based\n",
        "    # on the \"older\" target_net; selecting their best reward with max(1)[0].\n",
        "    # This is merged based on the mask, such that we'll have either the expected\n",
        "    # state value or 0 in case the state was final.\n",
        "    next_state_values = torch.zeros(BATCH_SIZE, device=device)\n",
        "    next_state_values[non_final_mask] = target_net(non_final_next_states).max(1)[0].detach()\n",
        "    # Compute the expected Q values\n",
        "    expected_state_action_values = (next_state_values * GAMMA) + reward_batch\n",
        "\n",
        "    # Compute Huber loss\n",
        "    criterion = nn.SmoothL1Loss()\n",
        "    loss = criterion(state_action_values, expected_state_action_values.unsqueeze(1))\n",
        "\n",
        "    # Optimize the model\n",
        "    optimizer.zero_grad()\n",
        "    loss.backward()\n",
        "    for param in policy_net.parameters():\n",
        "        param.grad.data.clamp_(-1, 1)\n",
        "    optimizer.step()\n",
        "    return loss"
      ]
    },
    {
      "cell_type": "markdown",
      "metadata": {
        "id": "INPVxMLNVkGT"
      },
      "source": [
        "Below, you can find the main training loop. At the beginning we reset\n",
        "the environment and initialize the ``state`` Tensor. Then, we sample\n",
        "an action, execute it, observe the next screen and the reward (always\n",
        "1), and optimize our model once. When the episode ends (our model\n",
        "fails), we restart the loop.\n",
        "\n",
        "Below, `num_episodes` is set small. You should download\n",
        "the notebook and run lot more epsiodes, such as 300+ for meaningful\n",
        "duration improvements.\n",
        "\n",
        "\n"
      ]
    },
    {
      "cell_type": "code",
      "execution_count": 9,
      "metadata": {
        "colab": {
          "base_uri": "https://localhost:8080/"
        },
        "id": "8H6dqY4-VkGT",
        "outputId": "0447434c-07bf-4a17-9e46-5783ec21f26c"
      },
      "outputs": [
        {
          "name": "stdout",
          "output_type": "stream",
          "text": [
            "Epoch 0, loss: None\n",
            "Epoch 1, loss: None\n",
            "Epoch 2, loss: None\n",
            "Epoch 3, loss: None\n",
            "Epoch 4, loss: None\n",
            "Epoch 5, loss: None\n",
            "Epoch 6, loss: None\n",
            "Epoch 7, loss: None\n",
            "Epoch 8, loss: 0.20333823561668396\n",
            "Epoch 9, loss: 0.007808646187186241\n",
            "Epoch 10, loss: 0.022076815366744995\n",
            "Epoch 11, loss: 0.015634790062904358\n",
            "Epoch 12, loss: 0.020464761182665825\n",
            "Epoch 13, loss: 0.18712706863880157\n",
            "Epoch 14, loss: 0.024005742743611336\n",
            "Epoch 15, loss: 0.011254390701651573\n",
            "Epoch 16, loss: 0.008543157950043678\n",
            "Epoch 17, loss: 0.039139676839113235\n",
            "Epoch 18, loss: 0.052611544728279114\n",
            "Epoch 19, loss: 0.03505360707640648\n",
            "Complete\n"
          ]
        }
      ],
      "source": [
        "num_episodes = 20\n",
        "for i_episode in range(num_episodes):\n",
        "    # Initialize the environment and state\n",
        "    env.reset()\n",
        "    last_screen = get_screen()\n",
        "    current_screen = get_screen()\n",
        "    state = current_screen - last_screen\n",
        "    for t in count():\n",
        "        # Select and perform an action\n",
        "        action = select_action(state)\n",
        "        _, reward, done, _ = env.step(action.item())\n",
        "        reward = torch.tensor([reward], device=device)\n",
        "\n",
        "        # Observe new state\n",
        "        last_screen = current_screen\n",
        "        current_screen = get_screen()\n",
        "        if not done:\n",
        "            next_state = current_screen - last_screen\n",
        "        else:\n",
        "            next_state = None\n",
        "\n",
        "        # Store the transition in memory\n",
        "        memory.push(state, action, next_state, reward)\n",
        "\n",
        "        # Move to the next state\n",
        "        state = next_state\n",
        "\n",
        "        # Perform one step of the optimization (on the policy network)\n",
        "        loss = optimize_model()\n",
        "        if done:\n",
        "            episode_durations.append(t + 1)\n",
        "            # plot_durations()\n",
        "            break\n",
        "    # Update the target network, copying all weights and biases in DQN\n",
        "    print(f'Epoch {i_episode}, loss: {loss}')\n",
        "    if i_episode % TARGET_UPDATE == 0:\n",
        "        target_net.load_state_dict(policy_net.state_dict())\n",
        "\n",
        "print('Complete')"
      ]
    },
    {
      "cell_type": "markdown",
      "metadata": {},
      "source": [
        "## Video Visualization"
      ]
    },
    {
      "cell_type": "code",
      "execution_count": 15,
      "metadata": {
        "colab": {
          "base_uri": "https://localhost:8080/",
          "height": 456
        },
        "id": "YQNbrZHxYSZs",
        "outputId": "4c94e8f1-5057-438b-a842-bfa2c49f74a7"
      },
      "outputs": [
        {
          "name": "stderr",
          "output_type": "stream",
          "text": [
            "100%|██████████| 20/20 [00:06<00:00,  2.96it/s]"
          ]
        },
        {
          "name": "stdout",
          "output_type": "stream",
          "text": [
            "average reward per episode : 20.55\n"
          ]
        },
        {
          "name": "stderr",
          "output_type": "stream",
          "text": [
            "\n"
          ]
        },
        {
          "data": {
            "text/html": [
              "<video alt=\"test\" autoplay \n",
              "                loop controls style=\"height: 400px;\">\n",
              "                <source src=\"data:video/mp4;base64,AAAAIGZ0eXBpc29tAAACAGlzb21pc28yYXZjMW1wNDEAAAAIZnJlZQAAGHdtZGF0AAACrgYF//+q3EXpvebZSLeWLNgg2SPu73gyNjQgLSBjb3JlIDE1MiByMjg1NCBlOWE1OTAzIC0gSC4yNjQvTVBFRy00IEFWQyBjb2RlYyAtIENvcHlsZWZ0IDIwMDMtMjAxNyAtIGh0dHA6Ly93d3cudmlkZW9sYW4ub3JnL3gyNjQuaHRtbCAtIG9wdGlvbnM6IGNhYmFjPTEgcmVmPTMgZGVibG9jaz0xOjA6MCBhbmFseXNlPTB4MzoweDExMyBtZT1oZXggc3VibWU9NyBwc3k9MSBwc3lfcmQ9MS4wMDowLjAwIG1peGVkX3JlZj0xIG1lX3JhbmdlPTE2IGNocm9tYV9tZT0xIHRyZWxsaXM9MSA4eDhkY3Q9MSBjcW09MCBkZWFkem9uZT0yMSwxMSBmYXN0X3Bza2lwPTEgY2hyb21hX3FwX29mZnNldD0tMiB0aHJlYWRzPTMgbG9va2FoZWFkX3RocmVhZHM9MSBzbGljZWRfdGhyZWFkcz0wIG5yPTAgZGVjaW1hdGU9MSBpbnRlcmxhY2VkPTAgYmx1cmF5X2NvbXBhdD0wIGNvbnN0cmFpbmVkX2ludHJhPTAgYmZyYW1lcz0zIGJfcHlyYW1pZD0yIGJfYWRhcHQ9MSBiX2JpYXM9MCBkaXJlY3Q9MSB3ZWlnaHRiPTEgb3Blbl9nb3A9MCB3ZWlnaHRwPTIga2V5aW50PTI1MCBrZXlpbnRfbWluPTI1IHNjZW5lY3V0PTQwIGludHJhX3JlZnJlc2g9MCByY19sb29rYWhlYWQ9NDAgcmM9Y3JmIG1idHJlZT0xIGNyZj0yMy4wIHFjb21wPTAuNjAgcXBtaW49MCBxcG1heD02OSBxcHN0ZXA9NCBpcF9yYXRpbz0xLjQwIGFxPTE6MS4wMACAAAABq2WIhAAv//72rvzLK0cLlS4dWXuzUfLoSXL9iDB9aAAAAwAAAwAAJuKiZ0WFMeJsgAAALmAIWElDyDzETFWKgSxBvXL5YpCaBkEXQQAT6ywDpxTZ7taDsgsd5iTNE4jXZ2NaDW9Tx2tf5qMvz4OPfbpvzQogFXeMDO3+3hbRMoow0HiO1g6K37Odvwi1qKDUo23KCRUVYwcIIDwNcBsZKCfyYuxYmm2PObdr3odR7FUNbQARhSwGwvh59Y5jufHDJPFvpFAB//rovygxdLhvDYfiApncZPd3mMeshKRk1qXI9r2JKjVCKTnbHQfBthEfQ9q4T7OI7L887p2Ndqx77BWx+wXG8e63IPt5WhFXsqsR9n5iklx4lhp9mEibJ53XdJOE3I5Mc9VnzY2GlMU3Yl4ZNg3B+nUk9ZhPc+empvK1oojeYg6DKwxIKf7H+6DOJPgMDg12OIdShQfJtDcw93isXF68001nYzsAztQ8HkrE2LGQ71tyZ5GG7L0eRTgCebPkP+VQxXgTs4WVu0d42qoKWdWA2AMZ6r56DwunJov7rJAAAAMAAAMABAUAAADGQZojbEL//oywAABGCr8EAI96lCXWcqsmykoRdLroycYlzYWXjHzMUwtZM7uZJIk6C3F+qK6X2kfPDrGCXOYqGZBRst/WboPTve5vN/FfzLDsb0P1WLHxY0lTMXQKgh8b8KjiEAMVBjtCl7vu+xAziWqRcPE+7OoJViybgPgPqMWlJm9yBAeS4R/NAHv//9FXn00xgoFASI3FqN0/JQnSTE52Al3BjzvRTsZC03TcagFs75Xkr97rUr/RcgiOVmbscVJLIB3TAAAALUGeQXiEfwAAFr5dDHv0ISx6jEQlZj5Ud6A8Ht3ENbxcNAAAAwAFiWmhDKoB3QAAADgBnmJqR/8AACOyPL9PchYSgAsICq3xtS7O+2yBO6V3/tsEOTiUAn3G4HQhgO02CMFdKCCwtTAyNgAAALFBmmdJqEFomUwIX//+jLAAAEYl8akNUgBYQkkEiOdmMoiVEMfOAKMgMnrnnPTY/FWtmY9Xh+B1CG6AX6rovu86CloT4XoMHeUMEsnYIB4jwNEaQvpMDAQlJNVpb7E33RsSP7Xu6TK3nILM7Sp42cw9D2Z59Ml8mccpFoskxu8a7Rgdvexw5PXpngEZ//9mhYhGDCBbhrqlm7YUC29ZOROFg1sCwA8Vnh74Z64zjC/ndSUAAABOQZ6FRREsI/8AABatNew7WLseYLW2FQ0dUkzu8WqDJUauFWGa3HKwgXKd0bgypcNaEUAT7SjQNO9O1RzQU2cxXl9yQEF5+oRMk4KJij/BAAAARAGepHRH/wAAI6nQHCl/fOs1ypRF3nabsb7NO43ne5FjdHxSauti2ADdAMtuYxeiDgmIOlbUW0EK6Wi4S2k7Exe6oSXhAAAAKwGepmpH/wAAI78Yknls1fYwTKb2SUVsMKsHbjUHgHdOTmhI2Jp6OtimgekAAAB7QZqrSahBbJlMCFf//jhAAAEM94UVgDljArtOtYhr7P+XmiN6EuLXDoA8fGs/MFR4rTkyvNi5c2YsPgENz0CiDQrtBHYk+RIyIJ/LBHBvPo8kWkVU0Kv8T9nYVUXp0j6QAbod1TlWoB44ffTJiCL+brXEi492NZzDLWQUAAAAUkGeyUUVLCP/AAAWsywss1xoi8G6acog+B222UPa4pPA34NvxjcCzCTAA+/dHcwV7YgLZTyIN9Mne/er5GlOvoe8NUqenWGpfnnHV8Fn4V0U+YAAAAAtAZ7odEf/AAAjrDlb7Vw5fmbKUiXbzYNqKIMOXzAhyYdIihCmfriJNp5KkBcRAAAANgGe6mpH/wAAI5ptSjs+nUty9YGz0RWPrFQ9/l55C/3P834Vcmno03c6s/+c1e1Wls1p0o6BqwAAAFNBmuxJqEFsmUwIX//+jLAAABqKZC47+BqJ0FrfVHb5wp65AebOEwY52babuH9TyOehA3OuK9gBFLXW9L+U/T536lJLFt597R5zdTdYXlH75C9pIAAAAG1Bmw1J4QpSZTAhn/6eEAAARWciBBygBxqnpYdksjIPSH3ekV1d8B+2BsOz1XmxdKCPv4ZLqC86+Qo0goVbpq0ejcerHjgfSCQ/MGZepdbGbF1rLgyyjXVD6/cOeYNFo1VE2VH7YEfovufx9N2BAAAAe0GbMUnhDomUwIZ//p4QAABFembM4z+SqE8Mrk2sP0zl0QjOZ/FiIp1/a8ZVhwjK6ghf97wdyjqhNyPhq1rfHJUWl4NXWw2SewySWJ06BCOFRw914d1W+UPBfpBcbwT58MQBxsoGVQdjZfZpMghJWT+JKn4acArn2BdcgQAAAE9Bn09FETwj/wAAFmyWbQCR8TRzg7A0/KMlnQHT9XCVrvl7YDbCPm5aABEHUllconeEE/tlTyO8ZiSEagWB4G8rLdXsBdckZk61pf1XkBFhAAAAOQGfbnRH/wAAI6w5W+htF5wbaLHu+/HQqIqHBuajdz6nFeO5v5ibnp0wG5O0+OlBa0XgEH/8JvLq0wAAADYBn3BqR/8AACOyLGiHJNss+2w9mRRX11eejOhSnxWoxXYbw1ipvx7oRrJQKML0QPuD47+PakAAAABaQZt1SahBaJlMCGf//p4QAABFUM0DFRDhbY9caFPRf8zeI/v9OCNs2B9Wj+NjlRdSwj10Zj7vzIN2Vxt5VsAC0zO2IKw810e0ddFvQy6dswoV3RWEcIrvMyhhAAAASEGfk0URLCP/AAAWu4Krt2kutGuAAjLdVvq8fmPebY3a3KXXDMv/y+hxOsfSQN7K13mhwQ46rKZl7QApoJI+413vZT96gfbB4AAAACkBn7J0R/8AACPAuDJt6ii67lypiq+q6SPSeok4A1uUn23U8Rn23MAk3AAAAC0Bn7RqR/8AACPHC0CqHJsco2zphhdErb4lS2SJUqDVhqqL1BJZlAfskdRa8aEAAACMQZu5SahBbJlMCGf//p4QAABFVJ9hj4qCO2gBf7YYOCwN9hsnEvw1D4AUJkeY/aHutaAy/z/n55ANjPme+N5NRTcSpugA8teQzWjgBPZzAcv39AyDHUYvGqHeYRcGlsq4LpKoj2JuzQDopXVgoA8iFnUq4TVgV+stdsB+Rfzawc8syPPS9RXO2gpE2yQAAABNQZ/XRRUsI/8AABaynwTAyiHaGbG+VkKVjAxcuINpRw1EfyHXtViawGfRDZNbaZtCN3QoygAfuY6l3hMuJ51cu8rBsWLz4B/Tyh677XkAAAA1AZ/2dEf/AAAjqc7FkvTUjQTEglSS34H0P63pZNbcQENj010fEPswBQAB+5aBQav+sANaCAcAAAA0AZ/4akf/AAAjrjHRn7mz9pNnTo+NnDbl6ZjTx9tAa+0oG2bjSBFsxQDuARasQpjg9koiwAAAAIBBm/1JqEFsmUwIZ//+nhAAAEW6bz7A2H3JWADicCEkoqOmkjdgokPuuMu10Jhdal7dYx4Cih8iW/imEoQkj3Im97/5Yi40yjc0R16DO4y0dd+KbsbdtLOdWnduYf1Q0Nkkm/50e497HdFZQqQksZzZFX313res9qn4ckXLJL9RuQAAAFhBnhtFFSwj/wAAFrKe3jcsSsPJ+LJJe3R5b2GLHezbSBwbpYZ5iRgatu56j0AAiFIRzj3gBIseBOp3esf7S0o79CC5zhHQayf6y4JHjtaNPNHHbViN84tmAAAANwGeOnRH/wAAIsC5zF34gkh2Pk6qZrKw3OZhDnOgfvYTGmCJG2SmDGyL6vUPiO6N06961lMN+VEAAAA0AZ48akf/AAAjscEN5gH2P+3sCjDxwNm2Hht0VWh+NzjHLXcCjtGdx22WL8klD7FVoz+ZUQAAAJBBmiFJqEFsmUwIX//+jLAAAEQlSpJXWAIheoZ9uhgECGE85jdF7BOedG3HDUQ1N9/V2n76YZJvt7Lr5uVs8AxvcsypyxDzzcJB2VuHhpR9DfbM1jyL6b4gA7xlhehRNpM7AttftmzLzQuV6s3KNw/xajxMwuV+Zp52vImi7kb5aTe+u3xTsOSOrBCnyqmIwhYAAABNQZ5fRRUsI/8AABYUv4fqezxRflIeor9yh+RS+ki/8AnWuGC5/2wSDeRQA5CTwr+z8D/OG+kiSeU28xoN6fe71/MKlagWIYLGB02gYlQAAABJAZ5+dEf/AAANfgkfrIjswbdwWV5PkZ0l1RXPKX/HFMCpoBDz2m1iq6LUAGholvk63SAAffg9fSDsDcCl3t0dVuIbRaak6uWxUwAAAEIBnmBqR/8AACKjYlmyuHkGLK0K6yDiG5ut5ppHOdxUvZbrbfAATUUejDaHfkADUZ70583J1X80Qzne8dPuvY6nJMAAAABxQZplSahBbJlMCF///oywAABEAV1VzACwoVm3muzm8mttH++Tp1O8ELZAuBo18bg6RB3oVrsDDSNw2LDHF4NQxdcJ0TsgiA5CdI881PREtD/QjDX5hg8h9wuwO7Z0sqpuIr513XUY6gK6nT3MTGMXOsEAAABRQZ6DRRUsI/8AABXjj8GCW+nq1fN8tD52x7ESeH2A+0iniRUYixPAyKxACzfJ/mZHXaUwX/YSDOpJo8U5I3X+ohiA6y6qaVmWs11By/mC7vBgAAAANwGeonRH/wAAIsC4Mn0Ga3Wcuqn3c8SQ1zI3ARdnw4gAFsY0un/suubd1UKKFfgtewUnZ2vmTbMAAABFAZ6kakf/AAAixunVH1Q0SgBJeuaJfS0htiOaG7YWCcW+BGL2Z2UiOG+GiGxmxVFSzi44Gv0C8E10yfawuAnW7cgrg3gxAAAAtkGaqUmoQWyZTAhf//6MsAAARBRQtxnAFan9a422sxdp0TsNImZIiBBOXK63ih5d0GpWLfYAMxsfnqopAypb8bBUS8LiOKm1At27h4kYE3Ul+KHAaAy+DQ/b/gTnwT0NLhCdDDxLeV2AorwrSAZ+4dZ74slA4rz+5LXMmGAcR5rHENXyaM+zrn130YRP8ZxHNyO7dgGFLBZWegD3E0bP+YBXTiVzX1l6c2CsijVNKdzox8rbd1yhAAAATEGex0UVLCP/AAAWI0KbSgBGRpIBv+Z1ZqJ4Vrj50IBQSo4ISrd3hZF6EiQbpDyVunEIUTxgwyX1VInVVulXPTSk1HsX97dRkxZLmLEAAABBAZ7mdEf/AAAimLG8N9fvt7quLYo785+EJMJvgAuGAXeDKcysTUsMal354W/q07B4JtWYL82yhfNx1qBjpWgJQ2AAAAArAZ7oakf/AAAitz8iSsy8vVW77wdXkQOLgY6QO4WDcoE9xbPwrB11kmpnggAAAKtBmutJqEFsmUwUTC///oywAABEAr/84AiFw6MdU86+O4SdqiKFU6gbPzGqVkrcV3WhUUwS5f7Iesv3VJeMNlAFJTzb6QC2iZGHSBPcTV9DCLYoO1h+vtHNcrihqInDryFU5BMR0bp7Zp8U9iIoNhMq3nkmY0idvWp/JAO4hTvup2EDA8TrXWcw0j2OmDNVPk96bFGC/TWCBUsyCNbv6s2UOQVqnKgovMmDTkEAAAA8AZ8Kakf/AAAio4BrqGwfGS6+VQ/po7iUQtV6DGKOrQ1vPk8kdU+Eguy2nl0gLjHtfKorG6EhWSubsVWAAAAAikGbD0nhClJlMCF//oywAABEEJhu2ejRMYCE6qiHkANRJfB6+nGRUtrD+YXbey1lwf4RJIPEb7stowMOeq5y3MHqGehgUYOUXMNginYIwJIcnBEO4KzUoSpZq9KzOwvsylFqmmvMAHXZYqFezGQND6s6ne/MlbszlI0It6K/osum3Cl8vH4Tsp0coAAAAF9Bny1FNEwj/wAAFiKe3jZX74TaQ12KFxsb5ILqdeHsn6DJwPWBk/hyx+nFBn5UOhibyK84kdbyz8ZiHcwtEUs6JACZOmuOk0VawDh6K3vPnzTynDpWTe9XNKHFWHOxUQAAAFQBn0x0R/8AACKpzsWTE+ys/3xNRR2ESmsQAAtwAz4QlpCr/Ok5zwe0CQwExka/DFGQxXRe6d7Uxb7kYMFBo1BD4/qmQECa4LmQCys88AKorAGxnZ8AAABWAZ9Oakf/AAAirjEvz7XkaAoYnFgLFJEUOECoUTykiyKxDxLW+/3/mYAdxgVGMX3rIwjo8kVQtTVs4OyJRH4NuptyWAEOU/9JOt/SDjIckJYwL7el6qUAAACjQZtTSahBaJlMCFf//jhAAAEG+B1C/umopgAnJQFIdMIguH3yV2/PD5zVGBKvbkca+HtjmljQKiVG16dfXGieA8OdUH+FV/mVFdKeWwUEF+/F8o3iBYQPDWFXHSF53PP5kJtqhWBvNPyM2l6guuknRoMZQxstkP54bDrRc2FpU9sHxiH6aXbkvk9r3h/bi9KcjTG6xdDd+RLDmtocZQV4jFVuJAAAAGFBn3FFESwj/wAAFex/NtqOo3xON5oeB7OcNDNuw6Uqz2T8KJDp/xZwPYdxjvGZ11+hIwPojZZvw+xKAL2Eg22kGZ7OQVIAF0iI2VGN4UybNfSFkn6+7XqIostkwZ12/apIAAAAVwGfkHRH/wAAItUhAG1/te0M6rW7ecgcdjZVQA/Ca9K1gqEDOwxqgLfOeBeyFLMwFs0qbiQm/tRRDtpS9GTa65rQO9DRyVvvsLcJFrhdmRi5mRxsm2LZgQAAAEUBn5JqR/8AACK/AncgyTZYfp3xzMDdcUv3zJ2Zy3i7zG9dn6YXW5UdLTj2Op3kw0ACGs9+9RgUiy4H/07Ecx7RwvsrIqAAAACnQZuXSahBbJlMCP/8hAAADzILrVkt4wBWLW95IABEktj2RY1jfSIZnu4389A0N0LeEx1dDjjsrfW49Fn1Xg6i9XhSsthRBFQt/gzdrbqglmDpTAqXkQnhMxC/T1l/emyX/qVOSmAtiMX7H+YXgRbJlMEqIE48RfW/X74oqYqk5kfh8jHC7OCRvfHf+HJ74R1xvykHUgB1QrMllU6zAwax6tiA2zlITuAAAAB1QZ+1RRUsI/8AABWHoFHJ55bLWYGwAr2C2HtqltL3azSuPcXNhiWB0RNifCYkxPcRJwOfUAkTyVf8yzhSdy56IUJKaeUMlzUgA1WmXLiYur4x3z4R9OV8zfDQLigFP8cmRAX+214jaTFHLUbCapreET+51vKBAAAAVQGf1HRH/wAAIbby3PK3Vgy+oC2bbRgxjDFaLD94giAFtjLE/Pk0fUqAS8BEvOlZ78Ki5XBDa5HOyg2G6X9GiFSYWfosYt5CkDMGQitumqPCpv8LdmAAAABUAZ/Wakf/AAAhx1TYNIMgjKlFzZxRdtOzLqf79EZxpbCxRbpIoNR0mqBnBRDx819mdRhaELkz08w35pAAP3/uAIudHT7jOvDJ6JisanAQcoqzyDlXAAAFo21vb3YAAABsbXZoZAAAAAAAAAAAAAAAAAAAA+gAAARgAAEAAAEAAAAAAAAAAAAAAAABAAAAAAAAAAAAAAAAAAAAAQAAAAAAAAAAAAAAAAAAQAAAAAAAAAAAAAAAAAAAAAAAAAAAAAAAAAAAAAAAAAIAAATNdHJhawAAAFx0a2hkAAAAAwAAAAAAAAAAAAAAAQAAAAAAAARgAAAAAAAAAAAAAAAAAAAAAAABAAAAAAAAAAAAAAAAAAAAAQAAAAAAAAAAAAAAAAAAQAAAAAJYAAABkAAAAAAAJGVkdHMAAAAcZWxzdAAAAAAAAAABAAAEYAAAAgAAAQAAAAAERW1kaWEAAAAgbWRoZAAAAAAAAAAAAAAAAAAAMgAAADgAVcQAAAAAAC1oZGxyAAAAAAAAAAB2aWRlAAAAAAAAAAAAAAAAVmlkZW9IYW5kbGVyAAAAA/BtaW5mAAAAFHZtaGQAAAABAAAAAAAAAAAAAAAkZGluZgAAABxkcmVmAAAAAAAAAAEAAAAMdXJsIAAAAAEAAAOwc3RibAAAAJhzdHNkAAAAAAAAAAEAAACIYXZjMQAAAAAAAAABAAAAAAAAAAAAAAAAAAAAAAJYAZAASAAAAEgAAAAAAAAAAQAAAAAAAAAAAAAAAAAAAAAAAAAAAAAAAAAAAAAAAAAAABj//wAAADJhdmNDAWQAH//hABlnZAAfrNlAmDPl4QAAAwABAAADAGQPGDGWAQAGaOvjyyLAAAAAGHN0dHMAAAAAAAAAAQAAADgAAAEAAAAAFHN0c3MAAAAAAAAAAQAAAAEAAAHAY3R0cwAAAAAAAAA2AAAAAQAAAgAAAAABAAAEAAAAAAIAAAEAAAAAAQAABQAAAAABAAACAAAAAAEAAAAAAAAAAQAAAQAAAAABAAAFAAAAAAEAAAIAAAAAAQAAAAAAAAABAAABAAAAAAIAAAIAAAAAAQAABQAAAAABAAACAAAAAAEAAAAAAAAAAQAAAQAAAAABAAAFAAAAAAEAAAIAAAAAAQAAAAAAAAABAAABAAAAAAEAAAUAAAAAAQAAAgAAAAABAAAAAAAAAAEAAAEAAAAAAQAABQAAAAABAAACAAAAAAEAAAAAAAAAAQAAAQAAAAABAAAFAAAAAAEAAAIAAAAAAQAAAAAAAAABAAABAAAAAAEAAAUAAAAAAQAAAgAAAAABAAAAAAAAAAEAAAEAAAAAAQAABQAAAAABAAACAAAAAAEAAAAAAAAAAQAAAQAAAAABAAADAAAAAAEAAAEAAAAAAQAABQAAAAABAAACAAAAAAEAAAAAAAAAAQAAAQAAAAABAAAFAAAAAAEAAAIAAAAAAQAAAAAAAAABAAABAAAAAAEAAAUAAAAAAQAAAgAAAAABAAAAAAAAAAEAAAEAAAAAHHN0c2MAAAAAAAAAAQAAAAEAAAA4AAAAAQAAAPRzdHN6AAAAAAAAAAAAAAA4AAAEYQAAAMoAAAAxAAAAPAAAALUAAABSAAAASAAAAC8AAAB/AAAAVgAAADEAAAA6AAAAVwAAAHEAAAB/AAAAUwAAAD0AAAA6AAAAXgAAAEwAAAAtAAAAMQAAAJAAAABRAAAAOQAAADgAAACEAAAAXAAAADsAAAA4AAAAlAAAAFEAAABNAAAARgAAAHUAAABVAAAAOwAAAEkAAAC6AAAAUAAAAEUAAAAvAAAArwAAAEAAAACOAAAAYwAAAFgAAABaAAAApwAAAGUAAABbAAAASQAAAKsAAAB5AAAAWQAAAFgAAAAUc3RjbwAAAAAAAAABAAAAMAAAAGJ1ZHRhAAAAWm1ldGEAAAAAAAAAIWhkbHIAAAAAAAAAAG1kaXJhcHBsAAAAAAAAAAAAAAAALWlsc3QAAAAlqXRvbwAAAB1kYXRhAAAAAQAAAABMYXZmNTcuODMuMTAw\" type=\"video/mp4\" />\n",
              "             </video>"
            ],
            "text/plain": [
              "<IPython.core.display.HTML object>"
            ]
          },
          "metadata": {},
          "output_type": "display_data"
        }
      ],
      "source": [
        "from torch import randint\n",
        "from time import sleep\n",
        "from tqdm import tqdm\n",
        "\n",
        "env = wrap_env(env)\n",
        "reward_arr = []\n",
        "episode_count = 20\n",
        "for i in tqdm(range(episode_count)):\n",
        "    obs, done, rew = env.reset(), False, 0\n",
        "    env.render()\n",
        "    while not done:\n",
        "        A = randint(0, env.action_space.n, (1,))\n",
        "        obs, reward, done, info = env.step(A.item())\n",
        "        rew += reward\n",
        "        sleep(0.01)\n",
        "    reward_arr.append(rew)\n",
        "print(\"average reward per episode :\", sum(reward_arr) / len(reward_arr))\n",
        "env.close()\n",
        "show_video()"
      ]
    },
    {
      "cell_type": "markdown",
      "metadata": {},
      "source": [
        "## Plot Rewards"
      ]
    },
    {
      "cell_type": "code",
      "execution_count": 18,
      "metadata": {
        "colab": {
          "base_uri": "https://localhost:8080/",
          "height": 295
        },
        "id": "miJNO5Oeaez2",
        "outputId": "3bb11b96-c55b-4417-ec72-edac6548dd56"
      },
      "outputs": [
        {
          "data": {
            "image/png": "[encoded data removed]",
            "text/plain": [
              "<Figure size 432x288 with 1 Axes>"
            ]
          },
          "metadata": {
            "needs_background": "light"
          },
          "output_type": "display_data"
        }
      ],
      "source": [
        "def plot_reward(r):\n",
        "    plt.figure(2)\n",
        "    plt.clf()\n",
        "    plt.title('Result')\n",
        "    plt.xlabel('Episode')\n",
        "    plt.ylabel('Reward')\n",
        "    plt.plot(r)\n",
        "\n",
        "plot_reward(reward_arr)"
      ]
    },
    {
      "cell_type": "markdown",
      "metadata": {
        "id": "uNszQY61VkGU"
      },
      "source": [
        "Here is the diagram that illustrates the overall resulting data flow.\n",
        "\n",
        ".. figure:: /_static/img/reinforcement_learning_diagram.jpg\n",
        "\n",
        "Actions are chosen either randomly or based on a policy, getting the next\n",
        "step sample from the gym environment. We record the results in the\n",
        "replay memory and also run optimization step on every iteration.\n",
        "Optimization picks a random batch from the replay memory to do training of the\n",
        "new policy. \"Older\" target_net is also used in optimization to compute the\n",
        "expected Q values; it is updated occasionally to keep it current.\n",
        "\n",
        "\n"
      ]
    },
    {
      "cell_type": "markdown",
      "metadata": {},
      "source": [
        "# Lab Assignment\n",
        "\n",
        "Solve OpenAI cartpole problem using Deep RL on CartPole_v1.\n",
        "\n",
        "**Performance evaluation:**\n",
        "\n",
        "- Attain average rewards (frames lasted) of >475 over 100 consecutive trials.\n",
        "- Generate a cartpole rendering controlled by trained agent.\n",
        "- Plot episodic rewards throughout the training with a moving average (50 episode window)."
      ]
    },
    {
      "cell_type": "markdown",
      "metadata": {},
      "source": [
        "## Import cartpole from OpenAI Gym"
      ]
    },
    {
      "cell_type": "code",
      "execution_count": null,
      "metadata": {},
      "outputs": [],
      "source": [
        "env = gym.make('CartPole-v1')\n",
        "env.seed(1)\n",
        "torch.manual_seed(1)\n",
        "\n",
        "# Hyperparameters\n",
        "learning_rate =\n",
        "gamma = "
      ]
    },
    {
      "cell_type": "markdown",
      "metadata": {},
      "source": [
        "## Define your Deep RL Architecture"
      ]
    },
    {
      "cell_type": "code",
      "execution_count": null,
      "metadata": {},
      "outputs": [],
      "source": [
        "# YOUR DEEP RL ARCHITECTURE"
      ]
    },
    {
      "cell_type": "markdown",
      "metadata": {},
      "source": [
        "## Training loop"
      ]
    },
    {
      "cell_type": "code",
      "execution_count": null,
      "metadata": {},
      "outputs": [],
      "source": [
        "# Template for general case - Feel free to modify for your needs\n",
        "\n",
        "def train(episodes):\n",
        "    \n",
        "    scores = []\n",
        "    \n",
        "    for episode in range(episodes):\n",
        "        # Reset environment and record the starting state\n",
        "        state = env.reset()\n",
        "\n",
        "        for time in range(1000):\n",
        "            \n",
        "            action = choose_action(state) # Your agent's function of choosing action\n",
        "\n",
        "            # Uncomment to render the visual state in a window during training\n",
        "            # env.render()\n",
        "\n",
        "            # Step through environment using chosen action\n",
        "            state, reward, done, _ = env.step(action)\n",
        "\n",
        "            if done:\n",
        "                \n",
        "                break\n",
        "\n",
        "        # Calculate score to determine when the environment has been solved (Last 100 episodes last >475 frames)\n",
        "        scores.append(time)\n",
        "        mean_score = np.mean(scores[-100:])\n"
      ]
    },
    {
      "cell_type": "code",
      "execution_count": null,
      "metadata": {},
      "outputs": [],
      "source": [
        "agent = \n",
        "optimizer = \n",
        "train(episodes=1000)"
      ]
    },
    {
      "cell_type": "markdown",
      "metadata": {},
      "source": [
        "## Render the cartpole controlled by trained agent"
      ]
    },
    {
      "cell_type": "code",
      "execution_count": null,
      "metadata": {},
      "outputs": [],
      "source": [
        "def save_frames_as_gif(frames, filename='gym_animation.mp4'):\n",
        "\n",
        "    #Mess with this to change frame size\n",
        "    plt.figure(figsize=(frames[0].shape[1] / 72.0, frames[0].shape[0] / 72.0), dpi=72)\n",
        "\n",
        "    patch = plt.imshow(frames[0])\n",
        "    plt.axis('off')\n",
        "\n",
        "    def animate(i):\n",
        "        patch.set_data(frames[i])\n",
        "\n",
        "    anim = animation.FuncAnimation(plt.gcf(), animate, frames = len(frames), interval=1)\n",
        "    anim.save(filename + '.mp4', writer='ffmpeg', fps=60)"
      ]
    },
    {
      "cell_type": "code",
      "execution_count": null,
      "metadata": {},
      "outputs": [],
      "source": [
        "# Use this cell to generate .mp4 file of cartpole rendering controlled by your trained agent\n",
        "\n",
        "frames = []\n",
        "\n",
        "state = env.reset()\n",
        "\n",
        "for t in range(1000):\n",
        "    \n",
        "    action = choose_action(state)\n",
        "    \n",
        "    frames.append(env.render(mode=\"rgb_array\"))\n",
        "\n",
        "    state, reward, done, _ = env.step(action)\n",
        "    \n",
        "    if done:\n",
        "        \n",
        "        break\n",
        "\n",
        "env.close()\n",
        "\n",
        "save_frames_as_gif(frames)"
      ]
    },
    {
      "cell_type": "markdown",
      "metadata": {},
      "source": [
        "## Plot the training progress"
      ]
    },
    {
      "cell_type": "code",
      "execution_count": null,
      "metadata": {},
      "outputs": [],
      "source": [
        "# plot the reward throughout training (running average over 50 episodes)\n"
      ]
    }
  ],
  "metadata": {
    "colab": {
      "collapsed_sections": [],
      "name": "Copy of reinforcement_q_learning.ipynb",
      "provenance": []
    },
    "kernelspec": {
      "display_name": "Python 3",
      "language": "python",
      "name": "python3"
    },
    "language_info": {
      "codemirror_mode": {
        "name": "ipython",
        "version": 3
      },
      "file_extension": ".py",
      "mimetype": "text/x-python",
      "name": "python",
      "nbconvert_exporter": "python",
      "pygments_lexer": "ipython3",
      "version": "3.7.13"
    }
  },
  "nbformat": 4,
  "nbformat_minor": 0
}
